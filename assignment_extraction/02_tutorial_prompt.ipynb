{
 "cells": [
  {
   "cell_type": "code",
   "execution_count": 1,
   "metadata": {
    "colab": {
     "base_uri": "https://localhost:8080/"
    },
    "id": "wqCsH6BYeXkB",
    "outputId": "2c92e620-5ed3-4f97-ad19-d6f8cd01b4ac"
   },
   "outputs": [
    {
     "name": "stdout",
     "output_type": "stream",
     "text": [
      "Requirement already satisfied: dsm-services in /home/wasit/miniconda3/envs/mastering_data_preparation/lib/python3.10/site-packages (0.0.10)\n",
      "Requirement already satisfied: requests in /home/wasit/miniconda3/envs/mastering_data_preparation/lib/python3.10/site-packages (from dsm-services) (2.32.3)\n",
      "Requirement already satisfied: tqdm in /home/wasit/miniconda3/envs/mastering_data_preparation/lib/python3.10/site-packages (from dsm-services) (4.66.5)\n",
      "Requirement already satisfied: retry in /home/wasit/miniconda3/envs/mastering_data_preparation/lib/python3.10/site-packages (from dsm-services) (0.9.2)\n",
      "Requirement already satisfied: charset-normalizer<4,>=2 in /home/wasit/miniconda3/envs/mastering_data_preparation/lib/python3.10/site-packages (from requests->dsm-services) (3.3.2)\n",
      "Requirement already satisfied: idna<4,>=2.5 in /home/wasit/miniconda3/envs/mastering_data_preparation/lib/python3.10/site-packages (from requests->dsm-services) (3.10)\n",
      "Requirement already satisfied: urllib3<3,>=1.21.1 in /home/wasit/miniconda3/envs/mastering_data_preparation/lib/python3.10/site-packages (from requests->dsm-services) (1.26.20)\n",
      "Requirement already satisfied: certifi>=2017.4.17 in /home/wasit/miniconda3/envs/mastering_data_preparation/lib/python3.10/site-packages (from requests->dsm-services) (2024.8.30)\n",
      "Requirement already satisfied: decorator>=3.4.2 in /home/wasit/miniconda3/envs/mastering_data_preparation/lib/python3.10/site-packages (from retry->dsm-services) (5.1.1)\n",
      "Requirement already satisfied: py<2.0.0,>=1.4.26 in /home/wasit/miniconda3/envs/mastering_data_preparation/lib/python3.10/site-packages (from retry->dsm-services) (1.11.0)\n"
     ]
    }
   ],
   "source": [
    "!pip install dsm-services"
   ]
  },
  {
   "cell_type": "code",
   "execution_count": 2,
   "metadata": {
    "colab": {
     "base_uri": "https://localhost:8080/",
     "height": 46
    },
    "id": "kw5owyR2dx_Z",
    "outputId": "683d000e-15c0-4d40-d41e-856c50cdb2a8"
   },
   "outputs": [
    {
     "data": {
      "text/markdown": [
       "positive"
      ],
      "text/plain": [
       "<IPython.core.display.Markdown object>"
      ]
     },
     "metadata": {},
     "output_type": "display_data"
    }
   ],
   "source": [
    "import dsm_services\n",
    "from IPython.display import display, Markdown\n",
    "\n",
    "def MD(text):\n",
    "    return display(Markdown(text))\n",
    "model = dsm_services.llm.LLM(\n",
    "    model_name='llama3.1:70b',\n",
    "    api_key=\"tE7FX2Ze.DO5dd6Wa8O7vA4GIvjvZgn1h5g4ESbSf\"\n",
    ")\n",
    "\n",
    "#ตัวอย่าง Data แก้ไขข้อมูลได้\n",
    "texts = [\n",
    "    'ช่วงนี้การเมืองมันสงบสุขมั่นคง',\n",
    "    'แตงโมตอนนี้ราคาเท่าไร',\n",
    "    'สวัสดีครับ ตอนนี้ฝุ่นเยอะมากเลยนะครับ ดูแลสุขภาพกันด้วย'\n",
    "]\n",
    "\n",
    "def sentiment(text):\n",
    "    prompt=f'''\n",
    "      ### instruction\n",
    "\n",
    "      Plesse analyse sentiment (positive, negative, or neutral) of the input sentence. please return only sentiment.\n",
    "\n",
    "      ### example input:\n",
    "      ช่วงนี้การเมืองมันสงบสุขมั่นคง\n",
    "\n",
    "      ###example output :\n",
    "      positive\n",
    "\n",
    "      ### input:\n",
    "      {text}\n",
    "\n",
    "      ### output:\n",
    "    '''\n",
    "    res = model.generate_content(prompt)\n",
    "    sentiment = res.response.strip()\n",
    "    return sentiment\n",
    "\n",
    "\n",
    "md=sentiment(texts[0])\n",
    "MD(md)"
   ]
  },
  {
   "cell_type": "code",
   "execution_count": 3,
   "metadata": {
    "colab": {
     "base_uri": "https://localhost:8080/",
     "height": 282
    },
    "id": "OCz_5zROxBta",
    "outputId": "eb352517-1331-4b15-dee3-7647521f84ce"
   },
   "outputs": [
    {
     "name": "stdout",
     "output_type": "stream",
     "text": [
      "<class 'pandas.core.frame.DataFrame'>\n",
      "RangeIndex: 3 entries, 0 to 2\n",
      "Data columns (total 1 columns):\n",
      " #   Column  Non-Null Count  Dtype \n",
      "---  ------  --------------  ----- \n",
      " 0   text    3 non-null      object\n",
      "dtypes: object(1)\n",
      "memory usage: 152.0+ bytes\n"
     ]
    },
    {
     "data": {
      "text/html": [
       "<div>\n",
       "<style scoped>\n",
       "    .dataframe tbody tr th:only-of-type {\n",
       "        vertical-align: middle;\n",
       "    }\n",
       "\n",
       "    .dataframe tbody tr th {\n",
       "        vertical-align: top;\n",
       "    }\n",
       "\n",
       "    .dataframe thead th {\n",
       "        text-align: right;\n",
       "    }\n",
       "</style>\n",
       "<table border=\"1\" class=\"dataframe\">\n",
       "  <thead>\n",
       "    <tr style=\"text-align: right;\">\n",
       "      <th></th>\n",
       "      <th>text</th>\n",
       "    </tr>\n",
       "  </thead>\n",
       "  <tbody>\n",
       "    <tr>\n",
       "      <th>0</th>\n",
       "      <td>ช่วงนี้การเมืองมันสงบสุขมั่นคง</td>\n",
       "    </tr>\n",
       "    <tr>\n",
       "      <th>1</th>\n",
       "      <td>แตงโมตอนนี้ราคาเท่าไร</td>\n",
       "    </tr>\n",
       "    <tr>\n",
       "      <th>2</th>\n",
       "      <td>สวัสดีครับ ตอนนี้ฝุ่นเยอะมากเลยนะครับ ดูแลสุขภ...</td>\n",
       "    </tr>\n",
       "  </tbody>\n",
       "</table>\n",
       "</div>"
      ],
      "text/plain": [
       "                                                text\n",
       "0                     ช่วงนี้การเมืองมันสงบสุขมั่นคง\n",
       "1                              แตงโมตอนนี้ราคาเท่าไร\n",
       "2  สวัสดีครับ ตอนนี้ฝุ่นเยอะมากเลยนะครับ ดูแลสุขภ..."
      ]
     },
     "execution_count": 3,
     "metadata": {},
     "output_type": "execute_result"
    }
   ],
   "source": [
    "import pandas as pd\n",
    "df=pd.DataFrame({'text':texts})\n",
    "df.info()\n",
    "df.head()"
   ]
  },
  {
   "cell_type": "code",
   "execution_count": 4,
   "metadata": {
    "colab": {
     "base_uri": "https://localhost:8080/",
     "height": 300
    },
    "id": "Oy854gVdsS3u",
    "outputId": "91fc28a6-95c1-4d93-c20a-e9422973a232"
   },
   "outputs": [
    {
     "name": "stdout",
     "output_type": "stream",
     "text": [
      "<class 'pandas.core.frame.DataFrame'>\n",
      "RangeIndex: 3 entries, 0 to 2\n",
      "Data columns (total 2 columns):\n",
      " #   Column     Non-Null Count  Dtype \n",
      "---  ------     --------------  ----- \n",
      " 0   text       3 non-null      object\n",
      " 1   sentiment  3 non-null      object\n",
      "dtypes: object(2)\n",
      "memory usage: 176.0+ bytes\n"
     ]
    },
    {
     "data": {
      "text/html": [
       "<div>\n",
       "<style scoped>\n",
       "    .dataframe tbody tr th:only-of-type {\n",
       "        vertical-align: middle;\n",
       "    }\n",
       "\n",
       "    .dataframe tbody tr th {\n",
       "        vertical-align: top;\n",
       "    }\n",
       "\n",
       "    .dataframe thead th {\n",
       "        text-align: right;\n",
       "    }\n",
       "</style>\n",
       "<table border=\"1\" class=\"dataframe\">\n",
       "  <thead>\n",
       "    <tr style=\"text-align: right;\">\n",
       "      <th></th>\n",
       "      <th>text</th>\n",
       "      <th>sentiment</th>\n",
       "    </tr>\n",
       "  </thead>\n",
       "  <tbody>\n",
       "    <tr>\n",
       "      <th>0</th>\n",
       "      <td>ช่วงนี้การเมืองมันสงบสุขมั่นคง</td>\n",
       "      <td>positive</td>\n",
       "    </tr>\n",
       "    <tr>\n",
       "      <th>1</th>\n",
       "      <td>แตงโมตอนนี้ราคาเท่าไร</td>\n",
       "      <td>neutral</td>\n",
       "    </tr>\n",
       "    <tr>\n",
       "      <th>2</th>\n",
       "      <td>สวัสดีครับ ตอนนี้ฝุ่นเยอะมากเลยนะครับ ดูแลสุขภ...</td>\n",
       "      <td>negative</td>\n",
       "    </tr>\n",
       "  </tbody>\n",
       "</table>\n",
       "</div>"
      ],
      "text/plain": [
       "                                                text sentiment\n",
       "0                     ช่วงนี้การเมืองมันสงบสุขมั่นคง  positive\n",
       "1                              แตงโมตอนนี้ราคาเท่าไร   neutral\n",
       "2  สวัสดีครับ ตอนนี้ฝุ่นเยอะมากเลยนะครับ ดูแลสุขภ...  negative"
      ]
     },
     "execution_count": 4,
     "metadata": {},
     "output_type": "execute_result"
    }
   ],
   "source": [
    "df['sentiment']=df['text'].apply(sentiment)\n",
    "df.info()\n",
    "df.head()"
   ]
  },
  {
   "cell_type": "code",
   "execution_count": 5,
   "metadata": {
    "colab": {
     "base_uri": "https://localhost:8080/",
     "height": 35
    },
    "id": "2W_et_Dkzg4r",
    "outputId": "aacb604a-15d9-4a8e-d7c8-977a94ac3df2"
   },
   "outputs": [
    {
     "data": {
      "text/plain": [
       "\"['สมเด็จพระเทพรัตนราชสุดาสยามบรมราชกุมารี', 'ปทุมธานี', 'เตาสามโคก','แม่น้ำเจ้าพระยา','วัดสิงห์']\""
      ]
     },
     "execution_count": 5,
     "metadata": {},
     "output_type": "execute_result"
    }
   ],
   "source": [
    "def location(text):\n",
    "    prompt=f'''\n",
    "      ### instruction\n",
    "\n",
    "      Plesse extract name entity e.g. location and attraction. please return only list of name.\n",
    "\n",
    "      ### example input:\n",
    "      วัดพระแก้วมรกตตั้งอยู่ในกรุงเทพซึ่งเป็นเมืองหลวงของประเทศไทย\n",
    "\n",
    "      ###example output :\n",
    "      ['วัดพระแก้วมรกต','กรุงเทพ','ประเทศไทย']\n",
    "\n",
    "      ### input:\n",
    "      {text}\n",
    "\n",
    "      ### output:\n",
    "    '''\n",
    "    res = model.generate_content(prompt)\n",
    "    d = res.response.strip()\n",
    "    return d\n",
    "\n",
    "\n",
    "text='''รัฐบาลกำหนดให้วันที่ ๒ เมษายน ของทุกปี เป็นวันอนุรักษ์มรดกไทย เพื่อเทอด\n",
    "พระเกียรติสมเด็จพระเทพรัตนราชสุดาสยามบรมราชกุมารีที่ทรงมีพระมหากรุณาธิคุณต่อ\n",
    "งานด้านศิลปวัฒนธรรมอย่างเอนกอนันต์ตลอดมา และกระตุ้นให้ประชาชนตระหนักถึง\n",
    "ความสำคัญและมีส่วนร่วมในการอนุรักษ์มรดกศิลปวัฒนธรรมของชาติ ประกอบกับจังหวัด\n",
    "ปทุมธานีมีประวัติศาสตร์ความเป็นมาที่ยาวนาน และมีมรดกทางศิลปวัฒนธรรมต่าง ๆ\n",
    "มากมาย โดยเฉพาะโบราณวัตถุ ศิลปวัตถุ ประเภทเครื่องปั้นดินเผา ที่มีประวัติความเป็นมา ควรแก่การศึกษา\n",
    "ได้แก่ เตาสามโคก หรือที่เรียกว่า \"เตาโอ่งอ่าง\" ซึ่งเป็นเตาเผาที่ตั้งอยู่ บริเวณริมฝั่งแม่น้ำเจ้าพระยา\n",
    "บริเวณหน้าวัดสิงห์ ตำบลสามโคก เป็นเตาโบราณสมัย อยุธยาที่ตั้งอยู่ในภาคกลางบริเวณลุ่มน้ำเจ้าพระยา\n",
    "เครื่องปั้นดินเผาที่มีชื่อเสียงโดคเด่น เป็นที่รู้จักกันทั่วไปของเตาสามโคก คือ \"ตุ่มสามโคก\"\n",
    "ดังนั้นเนื่องในวันอนุรักษ์มรดกไทย ปีพุทธศักราช ๒๕๔๘ สำนักงานวัฒนธรรมจังหวัดปทุมธานี\n",
    "จึงได้รวบรวมเนื้อหาที่ เกี่ยวข้องกับเตาสามโคกจัดทำเป็นเอกสารขึ้นเพื่อให้เยาวชนและประชาชนได้ตระหนัก\n",
    "และเห็นคุณค่าความสำคัญของโบราณวัตถุ และศิลปวัตถุดังกล่าว หวังว่าหนังสือเล่มนี้\n",
    "คงเป็นประโยชน์ต่อการศึกษาค้นคว้าและอ้างอิงเกี่ยวกับ\n",
    "มรดกทางศิลปวัฒนธรรมของจังหวังปทุ่มธานีได้เป็นอย่างดี (นายโชค ไกรเทพ)\n",
    "ผู้อำนวยการสำนักงานวัฒนธรรมจังหวัดปทุมธานี'''\n",
    "\n",
    "location(text)"
   ]
  },
  {
   "cell_type": "code",
   "execution_count": 6,
   "metadata": {
    "colab": {
     "base_uri": "https://localhost:8080/"
    },
    "id": "dZuBoIAS35aV",
    "outputId": "1b7945ec-8485-4fb2-edab-b2bae77d34f8"
   },
   "outputs": [
    {
     "name": "stdout",
     "output_type": "stream",
     "text": [
      "Success on attempt 1\n"
     ]
    },
    {
     "data": {
      "text/plain": [
       "[{'name': 'สมเด็จพระเทพรัตนราชสุดาสยามบรมราชกุมารี',\n",
       "  'description': 'ทรงมีพระมหากรุณาธิคุณต่องานด้านศิลปวัฒนธรรมอย่างเอนกอนันต์ตลอดมา และกระตุ้นให้ประชาชนตระหนักถึงความสำคัญและมีส่วนร่วมในการอนุรักษ์มรดกศิลปวัฒนธรรมของชาติ',\n",
       "  'type': 'PERSON'},\n",
       " {'name': 'จังหวัดปทุมธานี',\n",
       "  'description': 'มีประวัติศาสตร์ความเป็นมาที่ยาวนาน และมีมรดกทางศิลปวัฒนธรรมต่าง ๆ มากมาย โดยเฉพาะโบราณวัตถุ ศิลปวัตถุ ประเภทเครื่องปั้นดินเผา ที่มีประวัติความเป็นมา ควรแก่การศึกษา',\n",
       "  'type': 'LOCATION'},\n",
       " {'name': 'เตาสามโคก',\n",
       "  'description': 'เป็นเตาโบราณสมัย อยุธยาที่ตั้งอยู่ในภาคกลางบริเวณลุ่มน้ำเจ้าพระยา เครื่องปั้นดินเผาที่มีชื่อเสียงโดคเด่น เป็นที่รู้จักกันทั่วไปของเตาสามโคก คือ ตุ่มสามโคก',\n",
       "  'type': 'ANTIQUE'},\n",
       " {'name': 'วัดสิงห์', 'description': 'ตำบลสามโคก', 'type': 'LOCATION'},\n",
       " {'name': 'แม่น้ำเจ้าพระยา', 'description': '', 'type': 'LOCATION'},\n",
       " {'name': 'สำนักงานวัฒนธรรมจังหวัดปทุมธานี',\n",
       "  'description': '',\n",
       "  'type': 'ORGANIZATION'},\n",
       " {'name': 'นายโชค ไกรเทพ',\n",
       "  'description': 'ผู้อำนวยการสำนักงานวัฒนธรรมจังหวัดปทุมธานี',\n",
       "  'type': 'PERSON'}]"
      ]
     },
     "execution_count": 6,
     "metadata": {},
     "output_type": "execute_result"
    }
   ],
   "source": [
    "import time\n",
    "from functools import wraps\n",
    "import json\n",
    "\n",
    "def retry(n):\n",
    "    \"\"\"\n",
    "    A decorator to retry a function n times upon failure, and print the number of attempts made.\n",
    "\n",
    "    Parameters:\n",
    "    -----------\n",
    "    n : int\n",
    "        The number of retry attempts.\n",
    "\n",
    "    Returns:\n",
    "    --------\n",
    "    Callable\n",
    "        A decorator that retries the decorated function up to n times.\n",
    "    \"\"\"\n",
    "    def decorator_retry(func):\n",
    "        @wraps(func)\n",
    "        def wrapper(*args, **kwargs):\n",
    "            attempts = 0\n",
    "            while attempts < n:\n",
    "                try:\n",
    "                    attempts += 1\n",
    "                    # Pass the attempt count to the decorated function\n",
    "                    result = func(*args, attempt_number=attempts, **kwargs)\n",
    "                    print(f\"Success on attempt {attempts}\")\n",
    "                    return result\n",
    "                except Exception as e:\n",
    "                    print(f\"Attempt {attempts} failed: {e}\")\n",
    "                    if attempts == n:\n",
    "                        raise  # Re-raise the exception if it's the last attempt\n",
    "                    # time.sleep(2)  # Optional delay between retries\n",
    "        return wrapper\n",
    "    return decorator_retry\n",
    "\n",
    "@retry(n=3)\n",
    "def location2(text, attempt_number):\n",
    "    prompt=f'''\n",
    "      ### instruction\n",
    "      Extract all named entities (ATTRACTION, LOCATION, PERSON, ORGANIZATION, ANTIQUE, CULTURE) with description\n",
    "      from the following text and format the output as a JSON array of entities.\n",
    "\n",
    "      # Example Output Format\n",
    "\n",
    "      ### entity\n",
    "      \"name\": \"วัดศาลาแดง\",\n",
    "      \"description\": \"เป็นชื่อวัดและหมู่บ้านใหญ่ อยู่ติดกับเมืองเมาะตะมะ\",\n",
    "      \"type\": \"ATTRACTION\"\n",
    "\n",
    "      # Actual Input and Output\n",
    "      ### input:\n",
    "      {text}\n",
    "\n",
    "      ### output:\n",
    "    '''\n",
    "    res = model.generate_content(prompt)\n",
    "    d = res.response.strip()\n",
    "    parsed_data = json.loads(d)\n",
    "    return parsed_data, attempt_number\n",
    "\n",
    "\n",
    "texts=['''รัฐบาลกำหนดให้วันที่ ๒ เมษายน ของทุกปี เป็นวันอนุรักษ์มรดกไทย เพื่อเทอด\n",
    "พระเกียรติสมเด็จพระเทพรัตนราชสุดาสยามบรมราชกุมารีที่ทรงมีพระมหากรุณาธิคุณต่อ\n",
    "งานด้านศิลปวัฒนธรรมอย่างเอนกอนันต์ตลอดมา และกระตุ้นให้ประชาชนตระหนักถึง\n",
    "ความสำคัญและมีส่วนร่วมในการอนุรักษ์มรดกศิลปวัฒนธรรมของชาติ ประกอบกับจังหวัด\n",
    "ปทุมธานีมีประวัติศาสตร์ความเป็นมาที่ยาวนาน และมีมรดกทางศิลปวัฒนธรรมต่าง ๆ\n",
    "มากมาย โดยเฉพาะโบราณวัตถุ ศิลปวัตถุ ประเภทเครื่องปั้นดินเผา ที่มีประวัติความเป็นมา ควรแก่การศึกษา\n",
    "ได้แก่ เตาสามโคก หรือที่เรียกว่า \"เตาโอ่งอ่าง\" ซึ่งเป็นเตาเผาที่ตั้งอยู่ บริเวณริมฝั่งแม่น้ำเจ้าพระยา\n",
    "บริเวณหน้าวัดสิงห์ ตำบลสามโคก เป็นเตาโบราณสมัย อยุธยาที่ตั้งอยู่ในภาคกลางบริเวณลุ่มน้ำเจ้าพระยา\n",
    "เครื่องปั้นดินเผาที่มีชื่อเสียงโดคเด่น เป็นที่รู้จักกันทั่วไปของเตาสามโคก คือ \"ตุ่มสามโคก\"\n",
    "ดังนั้นเนื่องในวันอนุรักษ์มรดกไทย ปีพุทธศักราช ๒๕๔๘ สำนักงานวัฒนธรรมจังหวัดปทุมธานี\n",
    "จึงได้รวบรวมเนื้อหาที่ เกี่ยวข้องกับเตาสามโคกจัดทำเป็นเอกสารขึ้นเพื่อให้เยาวชนและประชาชนได้ตระหนัก\n",
    "และเห็นคุณค่าความสำคัญของโบราณวัตถุ และศิลปวัตถุดังกล่าว หวังว่าหนังสือเล่มนี้\n",
    "คงเป็นประโยชน์ต่อการศึกษาค้นคว้าและอ้างอิงเกี่ยวกับ\n",
    "มรดกทางศิลปวัฒนธรรมของจังหวังปทุ่มธานีได้เป็นอย่างดี (นายโชค ไกรเทพ)\n",
    "ผู้อำนวยการสำนักงานวัฒนธรรมจังหวัดปทุมธานี''',]*2\n",
    "\n",
    "parsed_data, attempt_number=location2(texts[0])\n",
    "parsed_data"
   ]
  },
  {
   "cell_type": "markdown",
   "metadata": {},
   "source": [
    "# Load Dataframe"
   ]
  },
  {
   "cell_type": "code",
   "execution_count": 7,
   "metadata": {},
   "outputs": [
    {
     "name": "stdout",
     "output_type": "stream",
     "text": [
      "<class 'pandas.core.frame.DataFrame'>\n",
      "RangeIndex: 92 entries, 0 to 91\n",
      "Data columns (total 2 columns):\n",
      " #   Column  Non-Null Count  Dtype \n",
      "---  ------  --------------  ----- \n",
      " 0   page    92 non-null     int64 \n",
      " 1   text    92 non-null     object\n",
      "dtypes: int64(1), object(1)\n",
      "memory usage: 1.6+ KB\n"
     ]
    },
    {
     "data": {
      "text/html": [
       "<div>\n",
       "<style scoped>\n",
       "    .dataframe tbody tr th:only-of-type {\n",
       "        vertical-align: middle;\n",
       "    }\n",
       "\n",
       "    .dataframe tbody tr th {\n",
       "        vertical-align: top;\n",
       "    }\n",
       "\n",
       "    .dataframe thead th {\n",
       "        text-align: right;\n",
       "    }\n",
       "</style>\n",
       "<table border=\"1\" class=\"dataframe\">\n",
       "  <thead>\n",
       "    <tr style=\"text-align: right;\">\n",
       "      <th></th>\n",
       "      <th>page</th>\n",
       "      <th>text</th>\n",
       "    </tr>\n",
       "  </thead>\n",
       "  <tbody>\n",
       "    <tr>\n",
       "      <th>0</th>\n",
       "      <td>1</td>\n",
       "      <td>![0_image_0.png](0_image_0.png)</td>\n",
       "    </tr>\n",
       "    <tr>\n",
       "      <th>1</th>\n",
       "      <td>2</td>\n",
       "      <td>ย\\n\\n![1_image_0.png](1_image_0.png)\\n\\n( ) (\\...</td>\n",
       "    </tr>\n",
       "    <tr>\n",
       "      <th>2</th>\n",
       "      <td>3</td>\n",
       "      <td>![2_image_0.png](2_image_0.png)\\n\\nความ 7\\nรัฐ...</td>\n",
       "    </tr>\n",
       "    <tr>\n",
       "      <th>3</th>\n",
       "      <td>4</td>\n",
       "      <td>คำนำ\\n\\n![3_image_0.png](3_image_0.png)\\n\\nบทน...</td>\n",
       "    </tr>\n",
       "    <tr>\n",
       "      <th>4</th>\n",
       "      <td>5</td>\n",
       "      <td>2/9/267 อา256 ค.ก\\n(Samkoc-Potte-Bakkers Dorp....</td>\n",
       "    </tr>\n",
       "    <tr>\n",
       "      <th>5</th>\n",
       "      <td>6</td>\n",
       "      <td>```\\n  หมายเลขกำกับที่มุมว่า \"Potte-Bakkers Do...</td>\n",
       "    </tr>\n",
       "    <tr>\n",
       "      <th>6</th>\n",
       "      <td>7</td>\n",
       "      <td>๒ กิโลเมตร มีวัด ៩ วัด แต่ละวัดมีระยะทางห่างกั...</td>\n",
       "    </tr>\n",
       "    <tr>\n",
       "      <th>7</th>\n",
       "      <td>8</td>\n",
       "      <td>เศรษฐกิจบ้านสามโคก \\n\\n![7_image_0.png](7_imag...</td>\n",
       "    </tr>\n",
       "    <tr>\n",
       "      <th>8</th>\n",
       "      <td>9</td>\n",
       "      <td>จึงมีการปลูกสร้างวัดขึ้นในชุมชนบ้านสามโคกเป็นจ...</td>\n",
       "    </tr>\n",
       "    <tr>\n",
       "      <th>9</th>\n",
       "      <td>10</td>\n",
       "      <td>มอญในเกาะคะมานร์  หมู่บ้านใหญ่เป็นศูนย์การเรีย...</td>\n",
       "    </tr>\n",
       "  </tbody>\n",
       "</table>\n",
       "</div>"
      ],
      "text/plain": [
       "   page                                               text\n",
       "0     1                    ![0_image_0.png](0_image_0.png)\n",
       "1     2  ย\\n\\n![1_image_0.png](1_image_0.png)\\n\\n( ) (\\...\n",
       "2     3  ![2_image_0.png](2_image_0.png)\\n\\nความ 7\\nรัฐ...\n",
       "3     4  คำนำ\\n\\n![3_image_0.png](3_image_0.png)\\n\\nบทน...\n",
       "4     5  2/9/267 อา256 ค.ก\\n(Samkoc-Potte-Bakkers Dorp....\n",
       "5     6  ```\\n  หมายเลขกำกับที่มุมว่า \"Potte-Bakkers Do...\n",
       "6     7  ๒ กิโลเมตร มีวัด ៩ วัด แต่ละวัดมีระยะทางห่างกั...\n",
       "7     8  เศรษฐกิจบ้านสามโคก \\n\\n![7_image_0.png](7_imag...\n",
       "8     9  จึงมีการปลูกสร้างวัดขึ้นในชุมชนบ้านสามโคกเป็นจ...\n",
       "9    10  มอญในเกาะคะมานร์  หมู่บ้านใหญ่เป็นศูนย์การเรีย..."
      ]
     },
     "execution_count": 7,
     "metadata": {},
     "output_type": "execute_result"
    }
   ],
   "source": [
    "import pandas as pd\n",
    "df=pd.read_parquet('pages.parquet')\n",
    "df.info()\n",
    "df.head(10)"
   ]
  },
  {
   "cell_type": "code",
   "execution_count": 8,
   "metadata": {},
   "outputs": [
    {
     "data": {
      "text/plain": [
       "'![2_image_0.png](2_image_0.png)\\n\\nความ 7\\nรัฐบาลกำหนดให้วันที่ ๒ เมษายน ของทุกปี เป็นวันอนุรักษ์มรคกไทย เพื่อเทอค พระเกียรติสมเด็จพระเทพรัตนราชสุดาสยามบรมราชกุมารีที่ทรงมีพระมหากรุณาธิกุณต่อ งานด้านศิลปวัฒนธรรมอย่างเอนกอนันต์ตลอดมา  และกระตุ้นให้ประชาชนตระหนักถึง ความสำคัญและมีส่วนร่วมในการอนุรักษ์มรดกศิลปวัฒนธรรมของชาติ ประกอบกับจังหวัด ปทมธานีมีประวัติศาสตร์ความเป็นมาที่ยาวนาน  และมีมรดกทางศิลปวัฒนธรรมต่าง  ๆ\\n\\nมากมาย โดยเฉพาะโบราณวัตถุ ศิลปวัตถุ ประเภทเครื่องปั้นดินเผา ที่มีประวัติความเป็นมา ควรแก่การศึกษา ได้แก่ เตาสามโคก หรือที่เรียกว่า \"เตาโอ่งอ่าง\" ซึ่งเป็นเตาเผาที่ตั้งอยู่\\nบริเวณริมฝั่งแม่น้ำเจ้าพระยา  บริเวณหน้าวัดสิงห์  ตำบลสามโคก  เป็นเตาโบราณสมัย อยธยาที่ตั้งอยู่ในภาคกลางบริเวณลุ่มน้ำเจ้าพระยา  เครื่องปั้นดินเผาที่มีชื่อเสียงโดคเด่น เป็นที่รู้จักกันทั่วไปของเตาสามโคก คือ \"ตุ่มสามโคก\" ดังนั้นเนื่องในวันอนุรักษ์มรดกไทย ปีพุทธศักราช  ๒๕๔๘  สำนักงานวัฒนธรรมจังหวัดปทุมธานี  จึงได้รวบรวมเนื้อหาที่\\nเกี่ยวข้องกับเตาสามโคกจัดทำเป็นเอกสารขึ้นเพื่อให้เยาวชนและประชาชนได้ตระหนัก และเห็นคุณค่าความสำคัญของโบราณวัตถุ และศิลปวัตถุดังกล่าว หวังว่าหนังสือเล่มนี้ คงเป็นประโยชน์ต่อการศึกษาค้นคว้าและอ้างอิงเกี่ยวกับ มรดกทางศิลปวัฒนธรรมของจังหวังปทุ่มธานีได้เป็นอย่างดี\\n(นายโชค ไกรเทพ)\\nผู้อำนวยการสำนักงานวัฒนธรรมจังหวัดปทุมธานี\\nูก (), 1) 24\\n\\n   \\nอยู่ 2014 - 11\\n\\n. WEADLE W\\nอนที่ 12 พ.ศ. 195 อ เพื่อ Portune -\\n\\nม 20 10 10 1 นายเลของครอง ค.ศ. 1964 เป็นที่\\n\\nนา'"
      ]
     },
     "execution_count": 8,
     "metadata": {},
     "output_type": "execute_result"
    }
   ],
   "source": [
    "text1=df.loc[2,'text']\n",
    "text1"
   ]
  },
  {
   "cell_type": "code",
   "execution_count": 9,
   "metadata": {},
   "outputs": [
    {
     "data": {
      "text/plain": [
       "'2/9/267 อา256 ค.ก\\n(Samkoc-Potte-Bakkers Dorp.)\\nสามโคกมีชื่อปรากฏอยู่ในพงศาวดารกรุงศรีอยุธยาอยู่หลายฉบับที่กล่าวถึงการอพยพของ ชาวมอณเข้ามาอยู่ที่สามโคกในปี พ.ศ. ๒๒๐๓ สมัยพระบาทสมเด็จพระนารายณ์มหาราช ชาวมอญ เมืองเมาะตะมะได้อพยพครัวเรือนหนีภัยสงครามเข้ามาประมาณ ๑๐,๐๐๐ คน ทรงโปรดเกล้าฯ ให้ตั้ง บ้านเรือนอยู่ที่บ้านสามโคก นับเป็นครั้งแรกที่ชาวมอญได้เข้าตั้งบ้านเรือน บ้านสามโคกจากบันทึกของ ฝรั่งต่างชาติที่เข้ามาค้าขายยังปรากฏในแผนที่แสดงเส้นทางแม่น้ำจากทะเลอ่าวไทยถึงกรุงศรีอยูธยาซึ่ง เขียนโดย \"มองซิเออร์ เดอร์ รามา\" ใค้บันทึกชื่อหมู่บ้านในสมัยอยุธยาที่ตั้งสองฟากฝั่งลำน้ำเจ้าพระยา โดยเฉพาะแผนที่ของชาวฮอลันดา เขียนขึ้นในปี ค.ศ. 1726 ตรงกับแผ่นดินพระเจ้าอยู่หัวท้ายสระ พ.ศ. ๒๒๖๕ ได้เขียนภาพสัญลักษณ์เป็นรูปภาพประกอบในแผนที่ เช่น ภาพบ้านเรือน วัด โบสถ์\\nวิหาร เจดีย์ วัง กำแพงเมือง ป้อมค่ายดูเมือง ป่าไม้ ภูเขา ซึ่งทำให้เราได้ทราบที่ตั้งชุมชน หมู่บ้าน วัดวาอารามต่าง ๆ ที่สำคัญในสมัยอยูธยาที่ตั้งอยู่ริมสองฟากฝั่งแม่น้ำเจ้าพระยาได้เป็นอย่างดี ซึ่งหลักฐาน ในหลายส่วนไม่อาจหาได้จากพงศาวดารซึ่งมีการจดบันทึกไว้เพียงเล็กน้อย บ้านสามโคกได้ถูกบันทึกไว้\\nในแผนที่ฉบับนี้   เป็นภาพวาดหมู่บ้านริมฝั่งแม่น้ำเจ้าพระยาที่คู้งน้ำฝั่งตะวันตกโดยมีคำบรรยายใน\\n\\n![4_image_0.png](4_image_0.png)\\n\\nเตาลามได้ก'"
      ]
     },
     "execution_count": 9,
     "metadata": {},
     "output_type": "execute_result"
    }
   ],
   "source": [
    "text2=df.loc[4,'text']\n",
    "text2"
   ]
  },
  {
   "cell_type": "code",
   "execution_count": 11,
   "metadata": {
    "colab": {
     "base_uri": "https://localhost:8080/",
     "height": 251
    },
    "id": "uA2Ovk_P9WQO",
    "outputId": "2eafe65e-57bc-4ad6-ff04-50688d98e62d"
   },
   "outputs": [
    {
     "name": "stdout",
     "output_type": "stream",
     "text": [
      "<class 'pandas.core.frame.DataFrame'>\n",
      "RangeIndex: 2 entries, 0 to 1\n",
      "Data columns (total 2 columns):\n",
      " #   Column  Non-Null Count  Dtype \n",
      "---  ------  --------------  ----- \n",
      " 0   text    2 non-null      object\n",
      " 1   page    2 non-null      int64 \n",
      "dtypes: int64(1), object(1)\n",
      "memory usage: 160.0+ bytes\n"
     ]
    },
    {
     "data": {
      "text/html": [
       "<div>\n",
       "<style scoped>\n",
       "    .dataframe tbody tr th:only-of-type {\n",
       "        vertical-align: middle;\n",
       "    }\n",
       "\n",
       "    .dataframe tbody tr th {\n",
       "        vertical-align: top;\n",
       "    }\n",
       "\n",
       "    .dataframe thead th {\n",
       "        text-align: right;\n",
       "    }\n",
       "</style>\n",
       "<table border=\"1\" class=\"dataframe\">\n",
       "  <thead>\n",
       "    <tr style=\"text-align: right;\">\n",
       "      <th></th>\n",
       "      <th>text</th>\n",
       "      <th>page</th>\n",
       "    </tr>\n",
       "  </thead>\n",
       "  <tbody>\n",
       "    <tr>\n",
       "      <th>0</th>\n",
       "      <td>![2_image_0.png](2_image_0.png)\\n\\nความ 7\\nรัฐ...</td>\n",
       "      <td>2</td>\n",
       "    </tr>\n",
       "    <tr>\n",
       "      <th>1</th>\n",
       "      <td>2/9/267 อา256 ค.ก\\n(Samkoc-Potte-Bakkers Dorp....</td>\n",
       "      <td>4</td>\n",
       "    </tr>\n",
       "  </tbody>\n",
       "</table>\n",
       "</div>"
      ],
      "text/plain": [
       "                                                text  page\n",
       "0  ![2_image_0.png](2_image_0.png)\\n\\nความ 7\\nรัฐ...     2\n",
       "1  2/9/267 อา256 ค.ก\\n(Samkoc-Potte-Bakkers Dorp....     4"
      ]
     },
     "execution_count": 11,
     "metadata": {},
     "output_type": "execute_result"
    }
   ],
   "source": [
    "import pandas as pd\n",
    "pages=[2,4]\n",
    "df2=pd.DataFrame({'text':list(df.loc[pages,'text'])})\n",
    "df2['page']=pages\n",
    "df2.info()\n",
    "df2.head()"
   ]
  },
  {
   "cell_type": "markdown",
   "metadata": {},
   "source": [
    "# Extract information"
   ]
  },
  {
   "cell_type": "code",
   "execution_count": 12,
   "metadata": {},
   "outputs": [],
   "source": [
    "def as_series(func):\n",
    "    def wrapper(*args, **kwargs):\n",
    "        result = func(*args, **kwargs)\n",
    "        return pd.Series(result)\n",
    "    return wrapper\n",
    "\n",
    "@as_series\n",
    "def location3(x):\n",
    "    parsed_data, attempt_number = location2(x)\n",
    "    return parsed_data, attempt_number"
   ]
  },
  {
   "cell_type": "code",
   "execution_count": 14,
   "metadata": {
    "colab": {
     "base_uri": "https://localhost:8080/",
     "height": 570
    },
    "id": "YsXCzmAa-rGe",
    "outputId": "f92a8d67-3c86-49d0-fd8d-eaf58dc136f9"
   },
   "outputs": [
    {
     "name": "stdout",
     "output_type": "stream",
     "text": [
      "Attempt 1 failed: Expecting value: line 1 column 1 (char 0)\n",
      "Success on attempt 2\n",
      "Success on attempt 1\n",
      "<class 'pandas.core.frame.DataFrame'>\n",
      "RangeIndex: 2 entries, 0 to 1\n",
      "Data columns (total 4 columns):\n",
      " #   Column   Non-Null Count  Dtype \n",
      "---  ------   --------------  ----- \n",
      " 0   text     2 non-null      object\n",
      " 1   page     2 non-null      int64 \n",
      " 2   data     2 non-null      object\n",
      " 3   attempt  2 non-null      int64 \n",
      "dtypes: int64(2), object(2)\n",
      "memory usage: 192.0+ bytes\n"
     ]
    },
    {
     "data": {
      "text/html": [
       "<div>\n",
       "<style scoped>\n",
       "    .dataframe tbody tr th:only-of-type {\n",
       "        vertical-align: middle;\n",
       "    }\n",
       "\n",
       "    .dataframe tbody tr th {\n",
       "        vertical-align: top;\n",
       "    }\n",
       "\n",
       "    .dataframe thead th {\n",
       "        text-align: right;\n",
       "    }\n",
       "</style>\n",
       "<table border=\"1\" class=\"dataframe\">\n",
       "  <thead>\n",
       "    <tr style=\"text-align: right;\">\n",
       "      <th></th>\n",
       "      <th>text</th>\n",
       "      <th>page</th>\n",
       "      <th>data</th>\n",
       "      <th>attempt</th>\n",
       "    </tr>\n",
       "  </thead>\n",
       "  <tbody>\n",
       "    <tr>\n",
       "      <th>0</th>\n",
       "      <td>![2_image_0.png](2_image_0.png)\\n\\nความ 7\\nรัฐ...</td>\n",
       "      <td>2</td>\n",
       "      <td>[{'name': 'วันอนุรักษ์มรดกไทย', 'description':...</td>\n",
       "      <td>2</td>\n",
       "    </tr>\n",
       "    <tr>\n",
       "      <th>1</th>\n",
       "      <td>2/9/267 อา256 ค.ก\\n(Samkoc-Potte-Bakkers Dorp....</td>\n",
       "      <td>4</td>\n",
       "      <td>[{'name': 'สามโคก', 'description': 'หมู่บ้านให...</td>\n",
       "      <td>1</td>\n",
       "    </tr>\n",
       "  </tbody>\n",
       "</table>\n",
       "</div>"
      ],
      "text/plain": [
       "                                                text  page  \\\n",
       "0  ![2_image_0.png](2_image_0.png)\\n\\nความ 7\\nรัฐ...     2   \n",
       "1  2/9/267 อา256 ค.ก\\n(Samkoc-Potte-Bakkers Dorp....     4   \n",
       "\n",
       "                                                data  attempt  \n",
       "0  [{'name': 'วันอนุรักษ์มรดกไทย', 'description':...        2  \n",
       "1  [{'name': 'สามโคก', 'description': 'หมู่บ้านให...        1  "
      ]
     },
     "execution_count": 14,
     "metadata": {},
     "output_type": "execute_result"
    }
   ],
   "source": [
    "# df['data'] = df['text'].apply(location3)\n",
    "df3=df2.copy()\n",
    "df3[['data', 'attempt']] = df3.apply(lambda row: location3(row['text']), axis=1)\n",
    "df3.info()\n",
    "df3.head()"
   ]
  },
  {
   "cell_type": "markdown",
   "metadata": {},
   "source": [
    "# convert to dataframe"
   ]
  },
  {
   "cell_type": "code",
   "execution_count": 18,
   "metadata": {},
   "outputs": [
    {
     "data": {
      "text/html": [
       "<div>\n",
       "<style scoped>\n",
       "    .dataframe tbody tr th:only-of-type {\n",
       "        vertical-align: middle;\n",
       "    }\n",
       "\n",
       "    .dataframe tbody tr th {\n",
       "        vertical-align: top;\n",
       "    }\n",
       "\n",
       "    .dataframe thead th {\n",
       "        text-align: right;\n",
       "    }\n",
       "</style>\n",
       "<table border=\"1\" class=\"dataframe\">\n",
       "  <thead>\n",
       "    <tr style=\"text-align: right;\">\n",
       "      <th></th>\n",
       "      <th>page</th>\n",
       "      <th>name</th>\n",
       "      <th>type</th>\n",
       "      <th>description</th>\n",
       "    </tr>\n",
       "  </thead>\n",
       "  <tbody>\n",
       "    <tr>\n",
       "      <th>0</th>\n",
       "      <td>2</td>\n",
       "      <td>วันอนุรักษ์มรดกไทย</td>\n",
       "      <td>CULTURE</td>\n",
       "      <td>รัฐบาลกำหนดให้วันที่ ๒ เมษายน ของทุกปี</td>\n",
       "    </tr>\n",
       "    <tr>\n",
       "      <th>1</th>\n",
       "      <td>2</td>\n",
       "      <td>สมเด็จพระเทพรัตนราชสุดาสยามบรมราชกุมารี</td>\n",
       "      <td>PERSON</td>\n",
       "      <td>ทรงมีพระมหากรุณาธิกุณต่องานด้านศิลปวัฒนธรรมอย่...</td>\n",
       "    </tr>\n",
       "    <tr>\n",
       "      <th>2</th>\n",
       "      <td>2</td>\n",
       "      <td>จังหวัดปทุมธานี</td>\n",
       "      <td>LOCATION</td>\n",
       "      <td>มีประวัติศาสตร์ความเป็นมาที่ยาวนานและมีมรดกทาง...</td>\n",
       "    </tr>\n",
       "    <tr>\n",
       "      <th>3</th>\n",
       "      <td>2</td>\n",
       "      <td>เตาสามโคก</td>\n",
       "      <td>ANTIQUE</td>\n",
       "      <td>เตาเผาที่ตั้งอยู่บริเวณริมฝั่งแม่น้ำเจ้าพระยา</td>\n",
       "    </tr>\n",
       "    <tr>\n",
       "      <th>4</th>\n",
       "      <td>2</td>\n",
       "      <td>วัดสิงห์</td>\n",
       "      <td>LOCATION</td>\n",
       "      <td>ตำบลสามโคก</td>\n",
       "    </tr>\n",
       "    <tr>\n",
       "      <th>5</th>\n",
       "      <td>2</td>\n",
       "      <td>แม่น้ำเจ้าพระยา</td>\n",
       "      <td>LOCATION</td>\n",
       "      <td></td>\n",
       "    </tr>\n",
       "    <tr>\n",
       "      <th>6</th>\n",
       "      <td>2</td>\n",
       "      <td>สำนักงานวัฒนธรรมจังหวัดปทุมธานี</td>\n",
       "      <td>ORGANIZATION</td>\n",
       "      <td>รวบรวมเนื้อหาที่เกี่ยวข้องกับเตาสามโคก</td>\n",
       "    </tr>\n",
       "    <tr>\n",
       "      <th>7</th>\n",
       "      <td>2</td>\n",
       "      <td>นายโชค ไกรเทพ</td>\n",
       "      <td>PERSON</td>\n",
       "      <td>ผู้อำนวยการสำนักงานวัฒนธรรมจังหวัดปทุมธานี</td>\n",
       "    </tr>\n",
       "    <tr>\n",
       "      <th>8</th>\n",
       "      <td>4</td>\n",
       "      <td>สามโคก</td>\n",
       "      <td>LOCATION</td>\n",
       "      <td>หมู่บ้านใหญ่ อยู่ติดกับกรุงศรีอยุธยา</td>\n",
       "    </tr>\n",
       "    <tr>\n",
       "      <th>9</th>\n",
       "      <td>4</td>\n",
       "      <td>เมาะตะมะ</td>\n",
       "      <td>LOCATION</td>\n",
       "      <td>เมืองที่ชาวมอญอพยพมาอยู่ที่สามโคก</td>\n",
       "    </tr>\n",
       "    <tr>\n",
       "      <th>10</th>\n",
       "      <td>4</td>\n",
       "      <td>พระบาทสมเด็จพระนารายณ์มหาราช</td>\n",
       "      <td>PERSON</td>\n",
       "      <td>กษัตริย์สมัยกรุงศรีอยุธยา ทรงโปรดเกล้าฯ ให้ตั้...</td>\n",
       "    </tr>\n",
       "    <tr>\n",
       "      <th>11</th>\n",
       "      <td>4</td>\n",
       "      <td>มองซิเออร์ เดอร์ รามา</td>\n",
       "      <td>PERSON</td>\n",
       "      <td>ชาวต่างชาติที่เขียนแผนที่แสดงเส้นทางแม่น้ำจากท...</td>\n",
       "    </tr>\n",
       "    <tr>\n",
       "      <th>12</th>\n",
       "      <td>4</td>\n",
       "      <td>ฮอลันดา</td>\n",
       "      <td>ORGANIZATION</td>\n",
       "      <td>ประเทศที่เขียนแผนที่ของชาวฮอลันดาในปี ค.ศ. 1726</td>\n",
       "    </tr>\n",
       "  </tbody>\n",
       "</table>\n",
       "</div>"
      ],
      "text/plain": [
       "    page                                     name          type  \\\n",
       "0      2                       วันอนุรักษ์มรดกไทย       CULTURE   \n",
       "1      2  สมเด็จพระเทพรัตนราชสุดาสยามบรมราชกุมารี        PERSON   \n",
       "2      2                          จังหวัดปทุมธานี      LOCATION   \n",
       "3      2                                เตาสามโคก       ANTIQUE   \n",
       "4      2                                 วัดสิงห์      LOCATION   \n",
       "5      2                          แม่น้ำเจ้าพระยา      LOCATION   \n",
       "6      2          สำนักงานวัฒนธรรมจังหวัดปทุมธานี  ORGANIZATION   \n",
       "7      2                            นายโชค ไกรเทพ        PERSON   \n",
       "8      4                                   สามโคก      LOCATION   \n",
       "9      4                                 เมาะตะมะ      LOCATION   \n",
       "10     4             พระบาทสมเด็จพระนารายณ์มหาราช        PERSON   \n",
       "11     4                    มองซิเออร์ เดอร์ รามา        PERSON   \n",
       "12     4                                  ฮอลันดา  ORGANIZATION   \n",
       "\n",
       "                                          description  \n",
       "0              รัฐบาลกำหนดให้วันที่ ๒ เมษายน ของทุกปี  \n",
       "1   ทรงมีพระมหากรุณาธิกุณต่องานด้านศิลปวัฒนธรรมอย่...  \n",
       "2   มีประวัติศาสตร์ความเป็นมาที่ยาวนานและมีมรดกทาง...  \n",
       "3       เตาเผาที่ตั้งอยู่บริเวณริมฝั่งแม่น้ำเจ้าพระยา  \n",
       "4                                          ตำบลสามโคก  \n",
       "5                                                      \n",
       "6              รวบรวมเนื้อหาที่เกี่ยวข้องกับเตาสามโคก  \n",
       "7          ผู้อำนวยการสำนักงานวัฒนธรรมจังหวัดปทุมธานี  \n",
       "8                หมู่บ้านใหญ่ อยู่ติดกับกรุงศรีอยุธยา  \n",
       "9                   เมืองที่ชาวมอญอพยพมาอยู่ที่สามโคก  \n",
       "10  กษัตริย์สมัยกรุงศรีอยุธยา ทรงโปรดเกล้าฯ ให้ตั้...  \n",
       "11  ชาวต่างชาติที่เขียนแผนที่แสดงเส้นทางแม่น้ำจากท...  \n",
       "12    ประเทศที่เขียนแผนที่ของชาวฮอลันดาในปี ค.ศ. 1726  "
      ]
     },
     "execution_count": 18,
     "metadata": {},
     "output_type": "execute_result"
    }
   ],
   "source": [
    "# Expand the 'data' column into separate rows\n",
    "rows = []\n",
    "for _, row in df3.iterrows():\n",
    "    page = row['page']\n",
    "    # attempt = row['attempt']\n",
    "    data_items = row['data']\n",
    "    \n",
    "    for item in data_items:\n",
    "        rows.append({\n",
    "            # 'data': row['data'],  # Keeping the original data column if needed\n",
    "            # 'attempt': attempt,\n",
    "            'page':page,\n",
    "            'name': item.get('name', None),\n",
    "            'type': item.get('type', None),\n",
    "            'description': item.get('description', None)\n",
    "        })\n",
    "\n",
    "# Create a new DataFrame from the expanded rows\n",
    "df_expanded = pd.DataFrame(rows)\n",
    "df_expanded"
   ]
  },
  {
   "cell_type": "code",
   "execution_count": null,
   "metadata": {},
   "outputs": [],
   "source": []
  }
 ],
 "metadata": {
  "colab": {
   "provenance": []
  },
  "kernelspec": {
   "display_name": "Python 3 (ipykernel)",
   "language": "python",
   "name": "python3"
  },
  "language_info": {
   "codemirror_mode": {
    "name": "ipython",
    "version": 3
   },
   "file_extension": ".py",
   "mimetype": "text/x-python",
   "name": "python",
   "nbconvert_exporter": "python",
   "pygments_lexer": "ipython3",
   "version": "3.10.14"
  }
 },
 "nbformat": 4,
 "nbformat_minor": 4
}
