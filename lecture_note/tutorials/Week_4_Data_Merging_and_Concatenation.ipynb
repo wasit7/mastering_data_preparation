{
 "cells": [
  {
   "cell_type": "markdown",
   "id": "1ae8b9bf",
   "metadata": {},
   "source": [
    "# Week 4: Data Merging and Concatenation"
   ]
  },
  {
   "cell_type": "markdown",
   "id": "1991dcc3",
   "metadata": {},
   "source": [
    "\n",
    "## Objectives:\n",
    "In this week, you will:\n",
    "1. Learn how to merge datasets using different join techniques.\n",
    "2. Practice concatenating datasets to combine data from multiple sources.\n",
    "3. Understand how to handle complex merges with multiple keys.\n",
    "\n"
   ]
  },
  {
   "cell_type": "markdown",
   "id": "c07a6c19",
   "metadata": {},
   "source": [
    "\n",
    "## 1. Data Merging Basics\n",
    "Merging datasets is an essential step when you need to combine data from different sources. In `pandas`, merging can be done using different join techniques, similar to SQL joins.\n",
    "\n",
    "### Common Join Types:\n",
    "- **Inner Join**: Only includes rows with matching keys in both datasets.\n",
    "- **Left Join**: Includes all rows from the left dataset, and matching rows from the right.\n",
    "- **Right Join**: Includes all rows from the right dataset, and matching rows from the left.\n",
    "- **Outer Join**: Includes all rows from both datasets, filling in `NaN` where there's no match.\n",
    "\n",
    "Let's start by loading two sample datasets and performing different types of joins.\n"
   ]
  },
  {
   "cell_type": "code",
   "execution_count": 1,
   "id": "d4b0e63c",
   "metadata": {},
   "outputs": [
    {
     "data": {
      "text/plain": [
       "(   Location  Visitors\n",
       " 0    Park A       200\n",
       " 1  Museum B       150\n",
       " 2   Beach C       100,\n",
       "    Location  Revenue\n",
       " 0    Park A     1000\n",
       " 1  Museum B      750\n",
       " 2   Beach C      500\n",
       " 3     Zoo D      300)"
      ]
     },
     "execution_count": 1,
     "metadata": {},
     "output_type": "execute_result"
    }
   ],
   "source": [
    "\n",
    "# Import pandas\n",
    "import pandas as pd\n",
    "\n",
    "# Sample dataset 1: Tourism data\n",
    "tourism_data = {\n",
    "    'Location': ['Park A', 'Museum B', 'Beach C'],\n",
    "    'Visitors': [200, 150, 100]\n",
    "}\n",
    "\n",
    "df_tourism = pd.DataFrame(tourism_data)\n",
    "\n",
    "# Sample dataset 2: Revenue data\n",
    "revenue_data = {\n",
    "    'Location': ['Park A', 'Museum B', 'Beach C', 'Zoo D'],\n",
    "    'Revenue': [1000, 750, 500, 300]\n",
    "}\n",
    "\n",
    "df_revenue = pd.DataFrame(revenue_data)\n",
    "\n",
    "# Display the datasets\n",
    "df_tourism, df_revenue\n"
   ]
  },
  {
   "cell_type": "markdown",
   "id": "0ab12d40",
   "metadata": {},
   "source": [
    "\n",
    "## 2. Inner Join\n",
    "An inner join combines the two datasets based on a common key, only including rows where there are matches in both datasets.\n",
    "\n",
    "Let's perform an inner join on the `Location` column.\n"
   ]
  },
  {
   "cell_type": "code",
   "execution_count": 2,
   "id": "fe1c5546",
   "metadata": {},
   "outputs": [
    {
     "data": {
      "text/html": [
       "<div>\n",
       "<style scoped>\n",
       "    .dataframe tbody tr th:only-of-type {\n",
       "        vertical-align: middle;\n",
       "    }\n",
       "\n",
       "    .dataframe tbody tr th {\n",
       "        vertical-align: top;\n",
       "    }\n",
       "\n",
       "    .dataframe thead th {\n",
       "        text-align: right;\n",
       "    }\n",
       "</style>\n",
       "<table border=\"1\" class=\"dataframe\">\n",
       "  <thead>\n",
       "    <tr style=\"text-align: right;\">\n",
       "      <th></th>\n",
       "      <th>Location</th>\n",
       "      <th>Visitors</th>\n",
       "      <th>Revenue</th>\n",
       "    </tr>\n",
       "  </thead>\n",
       "  <tbody>\n",
       "    <tr>\n",
       "      <th>0</th>\n",
       "      <td>Park A</td>\n",
       "      <td>200</td>\n",
       "      <td>1000</td>\n",
       "    </tr>\n",
       "    <tr>\n",
       "      <th>1</th>\n",
       "      <td>Museum B</td>\n",
       "      <td>150</td>\n",
       "      <td>750</td>\n",
       "    </tr>\n",
       "    <tr>\n",
       "      <th>2</th>\n",
       "      <td>Beach C</td>\n",
       "      <td>100</td>\n",
       "      <td>500</td>\n",
       "    </tr>\n",
       "  </tbody>\n",
       "</table>\n",
       "</div>"
      ],
      "text/plain": [
       "   Location  Visitors  Revenue\n",
       "0    Park A       200     1000\n",
       "1  Museum B       150      750\n",
       "2   Beach C       100      500"
      ]
     },
     "execution_count": 2,
     "metadata": {},
     "output_type": "execute_result"
    }
   ],
   "source": [
    "\n",
    "# Perform an inner join on 'Location'\n",
    "df_inner = pd.merge(df_tourism, df_revenue, on='Location', how='inner')\n",
    "\n",
    "# Show the result\n",
    "df_inner\n"
   ]
  },
  {
   "cell_type": "markdown",
   "id": "ab5e7931",
   "metadata": {},
   "source": [
    "\n",
    "## 3. Left Join\n",
    "A left join returns all rows from the left dataset and the matching rows from the right dataset. Rows from the left dataset without a match in the right will have `NaN` values.\n",
    "\n",
    "Let's perform a left join on the `Location` column.\n"
   ]
  },
  {
   "cell_type": "code",
   "execution_count": 3,
   "id": "120c5a80",
   "metadata": {},
   "outputs": [
    {
     "data": {
      "text/html": [
       "<div>\n",
       "<style scoped>\n",
       "    .dataframe tbody tr th:only-of-type {\n",
       "        vertical-align: middle;\n",
       "    }\n",
       "\n",
       "    .dataframe tbody tr th {\n",
       "        vertical-align: top;\n",
       "    }\n",
       "\n",
       "    .dataframe thead th {\n",
       "        text-align: right;\n",
       "    }\n",
       "</style>\n",
       "<table border=\"1\" class=\"dataframe\">\n",
       "  <thead>\n",
       "    <tr style=\"text-align: right;\">\n",
       "      <th></th>\n",
       "      <th>Location</th>\n",
       "      <th>Visitors</th>\n",
       "      <th>Revenue</th>\n",
       "    </tr>\n",
       "  </thead>\n",
       "  <tbody>\n",
       "    <tr>\n",
       "      <th>0</th>\n",
       "      <td>Park A</td>\n",
       "      <td>200</td>\n",
       "      <td>1000</td>\n",
       "    </tr>\n",
       "    <tr>\n",
       "      <th>1</th>\n",
       "      <td>Museum B</td>\n",
       "      <td>150</td>\n",
       "      <td>750</td>\n",
       "    </tr>\n",
       "    <tr>\n",
       "      <th>2</th>\n",
       "      <td>Beach C</td>\n",
       "      <td>100</td>\n",
       "      <td>500</td>\n",
       "    </tr>\n",
       "  </tbody>\n",
       "</table>\n",
       "</div>"
      ],
      "text/plain": [
       "   Location  Visitors  Revenue\n",
       "0    Park A       200     1000\n",
       "1  Museum B       150      750\n",
       "2   Beach C       100      500"
      ]
     },
     "execution_count": 3,
     "metadata": {},
     "output_type": "execute_result"
    }
   ],
   "source": [
    "\n",
    "# Perform a left join on 'Location'\n",
    "df_left = pd.merge(df_tourism, df_revenue, on='Location', how='left')\n",
    "\n",
    "# Show the result\n",
    "df_left\n"
   ]
  },
  {
   "cell_type": "markdown",
   "id": "3049bbe2",
   "metadata": {},
   "source": [
    "\n",
    "## 4. Right Join\n",
    "A right join returns all rows from the right dataset and the matching rows from the left dataset. Rows from the right dataset without a match in the left will have `NaN` values.\n",
    "\n",
    "Let's perform a right join on the `Location` column.\n"
   ]
  },
  {
   "cell_type": "code",
   "execution_count": 4,
   "id": "c565e724",
   "metadata": {},
   "outputs": [
    {
     "data": {
      "text/html": [
       "<div>\n",
       "<style scoped>\n",
       "    .dataframe tbody tr th:only-of-type {\n",
       "        vertical-align: middle;\n",
       "    }\n",
       "\n",
       "    .dataframe tbody tr th {\n",
       "        vertical-align: top;\n",
       "    }\n",
       "\n",
       "    .dataframe thead th {\n",
       "        text-align: right;\n",
       "    }\n",
       "</style>\n",
       "<table border=\"1\" class=\"dataframe\">\n",
       "  <thead>\n",
       "    <tr style=\"text-align: right;\">\n",
       "      <th></th>\n",
       "      <th>Location</th>\n",
       "      <th>Visitors</th>\n",
       "      <th>Revenue</th>\n",
       "    </tr>\n",
       "  </thead>\n",
       "  <tbody>\n",
       "    <tr>\n",
       "      <th>0</th>\n",
       "      <td>Park A</td>\n",
       "      <td>200.0</td>\n",
       "      <td>1000</td>\n",
       "    </tr>\n",
       "    <tr>\n",
       "      <th>1</th>\n",
       "      <td>Museum B</td>\n",
       "      <td>150.0</td>\n",
       "      <td>750</td>\n",
       "    </tr>\n",
       "    <tr>\n",
       "      <th>2</th>\n",
       "      <td>Beach C</td>\n",
       "      <td>100.0</td>\n",
       "      <td>500</td>\n",
       "    </tr>\n",
       "    <tr>\n",
       "      <th>3</th>\n",
       "      <td>Zoo D</td>\n",
       "      <td>NaN</td>\n",
       "      <td>300</td>\n",
       "    </tr>\n",
       "  </tbody>\n",
       "</table>\n",
       "</div>"
      ],
      "text/plain": [
       "   Location  Visitors  Revenue\n",
       "0    Park A     200.0     1000\n",
       "1  Museum B     150.0      750\n",
       "2   Beach C     100.0      500\n",
       "3     Zoo D       NaN      300"
      ]
     },
     "execution_count": 4,
     "metadata": {},
     "output_type": "execute_result"
    }
   ],
   "source": [
    "\n",
    "# Perform a right join on 'Location'\n",
    "df_right = pd.merge(df_tourism, df_revenue, on='Location', how='right')\n",
    "\n",
    "# Show the result\n",
    "df_right\n"
   ]
  },
  {
   "cell_type": "markdown",
   "id": "e7d4d95e",
   "metadata": {},
   "source": [
    "\n",
    "## 5. Outer Join\n",
    "An outer join returns all rows from both datasets, filling in `NaN` where no match is found.\n",
    "\n",
    "Let's perform an outer join on the `Location` column.\n"
   ]
  },
  {
   "cell_type": "code",
   "execution_count": 5,
   "id": "411562c4",
   "metadata": {},
   "outputs": [
    {
     "data": {
      "text/html": [
       "<div>\n",
       "<style scoped>\n",
       "    .dataframe tbody tr th:only-of-type {\n",
       "        vertical-align: middle;\n",
       "    }\n",
       "\n",
       "    .dataframe tbody tr th {\n",
       "        vertical-align: top;\n",
       "    }\n",
       "\n",
       "    .dataframe thead th {\n",
       "        text-align: right;\n",
       "    }\n",
       "</style>\n",
       "<table border=\"1\" class=\"dataframe\">\n",
       "  <thead>\n",
       "    <tr style=\"text-align: right;\">\n",
       "      <th></th>\n",
       "      <th>Location</th>\n",
       "      <th>Visitors</th>\n",
       "      <th>Revenue</th>\n",
       "    </tr>\n",
       "  </thead>\n",
       "  <tbody>\n",
       "    <tr>\n",
       "      <th>0</th>\n",
       "      <td>Park A</td>\n",
       "      <td>200.0</td>\n",
       "      <td>1000</td>\n",
       "    </tr>\n",
       "    <tr>\n",
       "      <th>1</th>\n",
       "      <td>Museum B</td>\n",
       "      <td>150.0</td>\n",
       "      <td>750</td>\n",
       "    </tr>\n",
       "    <tr>\n",
       "      <th>2</th>\n",
       "      <td>Beach C</td>\n",
       "      <td>100.0</td>\n",
       "      <td>500</td>\n",
       "    </tr>\n",
       "    <tr>\n",
       "      <th>3</th>\n",
       "      <td>Zoo D</td>\n",
       "      <td>NaN</td>\n",
       "      <td>300</td>\n",
       "    </tr>\n",
       "  </tbody>\n",
       "</table>\n",
       "</div>"
      ],
      "text/plain": [
       "   Location  Visitors  Revenue\n",
       "0    Park A     200.0     1000\n",
       "1  Museum B     150.0      750\n",
       "2   Beach C     100.0      500\n",
       "3     Zoo D       NaN      300"
      ]
     },
     "execution_count": 5,
     "metadata": {},
     "output_type": "execute_result"
    }
   ],
   "source": [
    "\n",
    "# Perform an outer join on 'Location'\n",
    "df_outer = pd.merge(df_tourism, df_revenue, on='Location', how='outer')\n",
    "\n",
    "# Show the result\n",
    "df_outer\n"
   ]
  },
  {
   "cell_type": "markdown",
   "id": "81d68197",
   "metadata": {},
   "source": [
    "\n",
    "## 6. Concatenating Datasets\n",
    "Concatenation allows you to combine datasets vertically or horizontally. This is useful when you have multiple datasets with the same structure and want to append them together.\n",
    "\n",
    "Let's concatenate two tourism datasets.\n"
   ]
  },
  {
   "cell_type": "code",
   "execution_count": 6,
   "id": "4f4523f7",
   "metadata": {},
   "outputs": [
    {
     "data": {
      "text/html": [
       "<div>\n",
       "<style scoped>\n",
       "    .dataframe tbody tr th:only-of-type {\n",
       "        vertical-align: middle;\n",
       "    }\n",
       "\n",
       "    .dataframe tbody tr th {\n",
       "        vertical-align: top;\n",
       "    }\n",
       "\n",
       "    .dataframe thead th {\n",
       "        text-align: right;\n",
       "    }\n",
       "</style>\n",
       "<table border=\"1\" class=\"dataframe\">\n",
       "  <thead>\n",
       "    <tr style=\"text-align: right;\">\n",
       "      <th></th>\n",
       "      <th>Location</th>\n",
       "      <th>Visitors</th>\n",
       "    </tr>\n",
       "  </thead>\n",
       "  <tbody>\n",
       "    <tr>\n",
       "      <th>0</th>\n",
       "      <td>Park A</td>\n",
       "      <td>200</td>\n",
       "    </tr>\n",
       "    <tr>\n",
       "      <th>1</th>\n",
       "      <td>Museum B</td>\n",
       "      <td>150</td>\n",
       "    </tr>\n",
       "    <tr>\n",
       "      <th>2</th>\n",
       "      <td>Beach C</td>\n",
       "      <td>100</td>\n",
       "    </tr>\n",
       "    <tr>\n",
       "      <th>3</th>\n",
       "      <td>Zoo D</td>\n",
       "      <td>180</td>\n",
       "    </tr>\n",
       "    <tr>\n",
       "      <th>4</th>\n",
       "      <td>Museum E</td>\n",
       "      <td>120</td>\n",
       "    </tr>\n",
       "  </tbody>\n",
       "</table>\n",
       "</div>"
      ],
      "text/plain": [
       "   Location  Visitors\n",
       "0    Park A       200\n",
       "1  Museum B       150\n",
       "2   Beach C       100\n",
       "3     Zoo D       180\n",
       "4  Museum E       120"
      ]
     },
     "execution_count": 6,
     "metadata": {},
     "output_type": "execute_result"
    }
   ],
   "source": [
    "\n",
    "# Sample dataset 3: Additional tourism data\n",
    "more_tourism_data = {\n",
    "    'Location': ['Zoo D', 'Museum E'],\n",
    "    'Visitors': [180, 120]\n",
    "}\n",
    "\n",
    "df_more_tourism = pd.DataFrame(more_tourism_data)\n",
    "\n",
    "# Concatenate the two tourism datasets\n",
    "df_concat = pd.concat([df_tourism, df_more_tourism], ignore_index=True)\n",
    "\n",
    "# Show the result\n",
    "df_concat\n"
   ]
  },
  {
   "cell_type": "markdown",
   "id": "cfdfd67f",
   "metadata": {},
   "source": [
    "\n",
    "## 7. Summary\n",
    "In this week, you learned how to:\n",
    "1. Merge datasets using different join techniques (inner, left, right, outer).\n",
    "2. Concatenate datasets to combine multiple sources of data.\n",
    "\n",
    "### Homework:\n",
    "- Practice merging datasets from different sources in your own project.\n",
    "- Use concatenation to combine datasets from multiple time periods or locations.\n",
    "\n"
   ]
  }
 ],
 "metadata": {
  "kernelspec": {
   "display_name": "Python 3 (ipykernel)",
   "language": "python",
   "name": "python3"
  },
  "language_info": {
   "codemirror_mode": {
    "name": "ipython",
    "version": 3
   },
   "file_extension": ".py",
   "mimetype": "text/x-python",
   "name": "python",
   "nbconvert_exporter": "python",
   "pygments_lexer": "ipython3",
   "version": "3.10.13"
  }
 },
 "nbformat": 4,
 "nbformat_minor": 5
}
