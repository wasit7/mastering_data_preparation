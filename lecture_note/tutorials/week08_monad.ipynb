{
 "cells": [
  {
   "cell_type": "code",
   "execution_count": 1,
   "id": "01430420-a406-4a85-a8c5-aef37726ae3f",
   "metadata": {},
   "outputs": [],
   "source": [
    "# Monadsquishy Data Transformation Tool Tutorial\n",
    "# 1. Introduction to Monads and Data Transformation\n",
    "class Monad:\n",
    "    def __init__(self, value):\n",
    "        self.value = value\n",
    "    \n",
    "    def bind(self, func):\n",
    "        return Monad(func(self.value))"
   ]
  },
  {
   "cell_type": "code",
   "execution_count": 2,
   "id": "ea0f3809-d282-4d10-9516-45ec0200e9d8",
   "metadata": {},
   "outputs": [
    {
     "name": "stdout",
     "output_type": "stream",
     "text": [
      "Transformed Data: {'Name': 'Alice', 'Age': 30, 'Location': 'New York', 'Country': 'USA', 'Birth Year': 1994}\n"
     ]
    }
   ],
   "source": [
    "# Example: Basic Monad Structure\n",
    "# Chaining transformations in monads\n",
    "# 2. Key Features of Monadsquishy\n",
    "def add_location(data):\n",
    "    data['Country'] = 'USA'\n",
    "    return data\n",
    "\n",
    "def add_birth_year(data):\n",
    "    data['Birth Year'] = 2024 - data['Age']\n",
    "    return data\n",
    "\n",
    "# Example dataset\n",
    "data = {'Name': 'Alice', 'Age': 30, 'Location': 'New York'}\n",
    "\n",
    "# Create a monad object and apply transformations\n",
    "monad = Monad(data)\n",
    "result = (monad\n",
    "          .bind(add_location)\n",
    "          .bind(add_birth_year)\n",
    "          .value)\n",
    "\n",
    "print(\"Transformed Data:\", result)"
   ]
  },
  {
   "cell_type": "code",
   "execution_count": 3,
   "id": "fd666132-f933-4036-9196-af1662b5dcb7",
   "metadata": {},
   "outputs": [
    {
     "name": "stdout",
     "output_type": "stream",
     "text": [
      "Handled Missing Age: {'Name': 'Bob', 'Age': 25}\n"
     ]
    }
   ],
   "source": [
    "# 3. Handling Missing Values\n",
    "def fill_missing_age(data):\n",
    "    if 'Age' not in data or data['Age'] is None:\n",
    "        data['Age'] = 25  # Default age\n",
    "    return data\n",
    "\n",
    "# Handling missing values example\n",
    "monad = Monad({'Name': 'Bob'})\n",
    "result = monad.bind(fill_missing_age).value\n",
    "print(\"Handled Missing Age:\", result)"
   ]
  },
  {
   "cell_type": "code",
   "execution_count": null,
   "id": "22467832-b458-4165-a6c9-dd1418d7b0ca",
   "metadata": {},
   "outputs": [],
   "source": [
    "# 4. Error Handling Example\n",
    "def divide_by_age(data):\n",
    "    try:\n",
    "        data['Risk'] = 100 / data['Age']\n",
    "    except ZeroDivisionError:\n",
    "        data['Risk'] = 'Undefined'\n",
    "    return data\n",
    "\n",
    "# Example with zero age to cause division error\n",
    "monad = Monad({'Name': 'Charlie', 'Age': 0})\n",
    "result = monad.bind(divide_by_age).value\n",
    "print(\"Error Handling Result:\", result)"
   ]
  }
 ],
 "metadata": {
  "kernelspec": {
   "display_name": "Python 3 (ipykernel)",
   "language": "python",
   "name": "python3"
  },
  "language_info": {
   "codemirror_mode": {
    "name": "ipython",
    "version": 3
   },
   "file_extension": ".py",
   "mimetype": "text/x-python",
   "name": "python",
   "nbconvert_exporter": "python",
   "pygments_lexer": "ipython3",
   "version": "3.10.14"
  }
 },
 "nbformat": 4,
 "nbformat_minor": 5
}
