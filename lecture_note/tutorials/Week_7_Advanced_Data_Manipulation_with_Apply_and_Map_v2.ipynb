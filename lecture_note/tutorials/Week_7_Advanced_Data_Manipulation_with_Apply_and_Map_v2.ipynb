{
 "cells": [
  {
   "cell_type": "markdown",
   "id": "58c13c46",
   "metadata": {},
   "source": [
    "# Week 7: Advanced Data Manipulation with Apply and Map"
   ]
  },
  {
   "cell_type": "markdown",
   "id": "20f4c8da",
   "metadata": {},
   "source": [
    "\n",
    "## Objectives:\n",
    "In this week, you will:\n",
    "1. Learn how to use the `apply()` function for applying custom functions to DataFrames.\n",
    "2. Practice using `map()` and `applymap()` for element-wise operations.\n",
    "3. Understand how to manipulate data more efficiently with lambda functions.\n",
    "\n"
   ]
  },
  {
   "cell_type": "markdown",
   "id": "fa8db5a7",
   "metadata": {},
   "source": [
    "\n",
    "## 1. Introduction to Apply Function\n",
    "The `apply()` function allows you to apply a custom function to either rows or columns of a DataFrame. This is useful when you need to perform complex transformations or calculations on your data.\n",
    "\n",
    "### Example:\n",
    "Let's start by applying a custom function to calculate revenue per visitor.\n"
   ]
  },
  {
   "cell_type": "code",
   "execution_count": null,
   "id": "fa5ceeb8",
   "metadata": {},
   "outputs": [],
   "source": [
    "\n",
    "# Import pandas and load a sample dataset\n",
    "import pandas as pd\n",
    "\n",
    "# Sample dataset\n",
    "data = {\n",
    "    'Location': ['Park A', 'Museum B', 'Beach C', 'Park A', 'Museum B'],\n",
    "    'Visitors': [200, 150, 100, 300, 180],\n",
    "    'Revenue': [1000, 750, 500, 1500, 900]\n",
    "}\n",
    "\n",
    "df = pd.DataFrame(data)\n",
    "\n",
    "# Define a custom function to calculate revenue per visitor\n",
    "def revenue_per_visitor(row):\n",
    "    return row['Revenue'] / row['Visitors']\n",
    "\n",
    "# Apply the function to each row\n",
    "df['Revenue per Visitor'] = df.apply(revenue_per_visitor, axis=1)\n",
    "\n",
    "# Show the result\n",
    "df\n"
   ]
  },
  {
   "cell_type": "markdown",
   "id": "33f01f0f",
   "metadata": {},
   "source": [
    "\n",
    "## 2. Applying Lambda Functions\n",
    "Lambda functions are anonymous functions that are often used with `apply()` to perform quick, one-off transformations. They are a more concise way of writing custom functions.\n",
    "\n",
    "### Example:\n",
    "Let's use a lambda function to calculate the square of the visitor count for each location.\n"
   ]
  },
  {
   "cell_type": "code",
   "execution_count": null,
   "id": "82a20182",
   "metadata": {},
   "outputs": [],
   "source": [
    "\n",
    "# Apply a lambda function to calculate the square of visitors\n",
    "df['Visitors Squared'] = df['Visitors'].apply(lambda x: x**2)\n",
    "\n",
    "# Show the result\n",
    "df\n"
   ]
  },
  {
   "cell_type": "markdown",
   "id": "f67e57be",
   "metadata": {},
   "source": [
    "\n",
    "## 3. Using Map for Element-wise Operations\n",
    "The `map()` function is used to substitute or map values in a Series. This is useful for replacing values based on a mapping table or dictionary.\n",
    "\n",
    "### Example:\n",
    "Let's map the location names to abbreviations using a dictionary.\n"
   ]
  },
  {
   "cell_type": "code",
   "execution_count": null,
   "id": "6ff3f9c7",
   "metadata": {},
   "outputs": [],
   "source": [
    "\n",
    "# Create a dictionary to map location names to abbreviations\n",
    "location_map = {\n",
    "    'Park A': 'PA',\n",
    "    'Museum B': 'MB',\n",
    "    'Beach C': 'BC'\n",
    "}\n",
    "\n",
    "# Map the location names to their abbreviations\n",
    "df['Location Abbreviation'] = df['Location'].map(location_map)\n",
    "\n",
    "# Show the result\n",
    "df\n"
   ]
  },
  {
   "cell_type": "markdown",
   "id": "772dcb4c",
   "metadata": {},
   "source": [
    "\n",
    "## 4. Using Applymap for DataFrames\n",
    "The `applymap()` function is used to apply a function element-wise across an entire DataFrame. This is useful when you need to apply a function to every element in the DataFrame.\n",
    "\n",
    "### Example:\n",
    "Let's use `applymap()` to round all numerical values in the DataFrame to 2 decimal places.\n"
   ]
  },
  {
   "cell_type": "code",
   "execution_count": null,
   "id": "13c2c99d",
   "metadata": {},
   "outputs": [],
   "source": [
    "\n",
    "# Apply a lambda function to round all numerical values to 2 decimal places\n",
    "df_rounded = df[['Visitors', 'Revenue', 'Revenue per Visitor', 'Visitors Squared']].applymap(lambda x: round(x, 2))\n",
    "\n",
    "# Show the result\n",
    "df_rounded\n"
   ]
  },
  {
   "cell_type": "markdown",
   "id": "cdd866fb",
   "metadata": {},
   "source": [
    "\n",
    "## 5. Summary\n",
    "This week, you learned how to:\n",
    "1. Use the `apply()` function for custom row-wise and column-wise transformations.\n",
    "2. Leverage lambda functions for quick calculations.\n",
    "3. Use `map()` for element-wise value substitution and `applymap()` for element-wise DataFrame operations.\n",
    "\n",
    "### Homework:\n",
    "- Practice using `apply()`, `map()`, and `applymap()` on a new dataset.\n",
    "- Experiment with lambda functions to perform custom calculations on your data.\n",
    "\n"
   ]
  }
 ],
 "metadata": {
  "kernelspec": {
   "display_name": "Python 3 (ipykernel)",
   "language": "python",
   "name": "python3"
  },
  "language_info": {
   "codemirror_mode": {
    "name": "ipython",
    "version": 3
   },
   "file_extension": ".py",
   "mimetype": "text/x-python",
   "name": "python",
   "nbconvert_exporter": "python",
   "pygments_lexer": "ipython3",
   "version": "3.10.13"
  }
 },
 "nbformat": 4,
 "nbformat_minor": 5
}
