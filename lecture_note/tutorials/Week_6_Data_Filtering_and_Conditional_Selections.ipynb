{
 "cells": [
  {
   "cell_type": "markdown",
   "id": "65c945ee",
   "metadata": {},
   "source": [
    "# Week 6: Data Filtering and Conditional Selections"
   ]
  },
  {
   "cell_type": "markdown",
   "id": "2ec282ee",
   "metadata": {},
   "source": [
    "\n",
    "## Objectives:\n",
    "In this week, you will:\n",
    "1. Learn how to filter datasets based on conditions.\n",
    "2. Use conditional selections to extract subsets of data.\n",
    "3. Practice combining multiple conditions for more advanced filtering.\n",
    "\n"
   ]
  },
  {
   "cell_type": "markdown",
   "id": "b607ba0d",
   "metadata": {},
   "source": [
    "\n",
    "## 1. Introduction to Data Filtering\n",
    "Filtering data allows you to extract subsets of data that meet specific conditions. For example, you may want to extract rows where visitor counts are above a certain threshold or where revenue is below a certain value.\n",
    "\n",
    "### Common Methods:\n",
    "- **Filtering with boolean indexing**: Use conditions to filter data based on column values.\n",
    "- **Combining multiple conditions**: Use logical operators to filter data based on multiple conditions.\n",
    "\n",
    "Let's start by loading a sample dataset and filtering data based on visitor counts.\n"
   ]
  },
  {
   "cell_type": "code",
   "execution_count": 1,
   "id": "52bc8190",
   "metadata": {},
   "outputs": [
    {
     "data": {
      "text/html": [
       "<div>\n",
       "<style scoped>\n",
       "    .dataframe tbody tr th:only-of-type {\n",
       "        vertical-align: middle;\n",
       "    }\n",
       "\n",
       "    .dataframe tbody tr th {\n",
       "        vertical-align: top;\n",
       "    }\n",
       "\n",
       "    .dataframe thead th {\n",
       "        text-align: right;\n",
       "    }\n",
       "</style>\n",
       "<table border=\"1\" class=\"dataframe\">\n",
       "  <thead>\n",
       "    <tr style=\"text-align: right;\">\n",
       "      <th></th>\n",
       "      <th>Location</th>\n",
       "      <th>Visitors</th>\n",
       "      <th>Revenue</th>\n",
       "    </tr>\n",
       "  </thead>\n",
       "  <tbody>\n",
       "    <tr>\n",
       "      <th>0</th>\n",
       "      <td>Park A</td>\n",
       "      <td>200</td>\n",
       "      <td>1000</td>\n",
       "    </tr>\n",
       "    <tr>\n",
       "      <th>3</th>\n",
       "      <td>Park A</td>\n",
       "      <td>300</td>\n",
       "      <td>1500</td>\n",
       "    </tr>\n",
       "    <tr>\n",
       "      <th>4</th>\n",
       "      <td>Museum B</td>\n",
       "      <td>180</td>\n",
       "      <td>900</td>\n",
       "    </tr>\n",
       "  </tbody>\n",
       "</table>\n",
       "</div>"
      ],
      "text/plain": [
       "   Location  Visitors  Revenue\n",
       "0    Park A       200     1000\n",
       "3    Park A       300     1500\n",
       "4  Museum B       180      900"
      ]
     },
     "execution_count": 1,
     "metadata": {},
     "output_type": "execute_result"
    }
   ],
   "source": [
    "\n",
    "# Import pandas and load a sample dataset\n",
    "import pandas as pd\n",
    "\n",
    "# Sample dataset\n",
    "data = {\n",
    "    'Location': ['Park A', 'Museum B', 'Beach C', 'Park A', 'Museum B'],\n",
    "    'Visitors': [200, 150, 100, 300, 180],\n",
    "    'Revenue': [1000, 750, 500, 1500, 900]\n",
    "}\n",
    "\n",
    "df = pd.DataFrame(data)\n",
    "\n",
    "# Filter rows where Visitors are greater than 150\n",
    "df_filtered = df[df['Visitors'] > 150]\n",
    "\n",
    "# Show the result\n",
    "df_filtered\n"
   ]
  },
  {
   "cell_type": "markdown",
   "id": "13741968",
   "metadata": {},
   "source": [
    "\n",
    "## 2. Filtering with Multiple Conditions\n",
    "In many cases, you may need to filter data based on more than one condition. For example, you may want to filter rows where visitor counts are above a certain value **and** revenue is below a certain value.\n",
    "\n",
    "### Example:\n",
    "Let's filter the data to show only rows where visitor counts are greater than 150 and revenue is greater than 800.\n"
   ]
  },
  {
   "cell_type": "code",
   "execution_count": 2,
   "id": "2d0dff97",
   "metadata": {},
   "outputs": [
    {
     "data": {
      "text/html": [
       "<div>\n",
       "<style scoped>\n",
       "    .dataframe tbody tr th:only-of-type {\n",
       "        vertical-align: middle;\n",
       "    }\n",
       "\n",
       "    .dataframe tbody tr th {\n",
       "        vertical-align: top;\n",
       "    }\n",
       "\n",
       "    .dataframe thead th {\n",
       "        text-align: right;\n",
       "    }\n",
       "</style>\n",
       "<table border=\"1\" class=\"dataframe\">\n",
       "  <thead>\n",
       "    <tr style=\"text-align: right;\">\n",
       "      <th></th>\n",
       "      <th>Location</th>\n",
       "      <th>Visitors</th>\n",
       "      <th>Revenue</th>\n",
       "    </tr>\n",
       "  </thead>\n",
       "  <tbody>\n",
       "    <tr>\n",
       "      <th>0</th>\n",
       "      <td>Park A</td>\n",
       "      <td>200</td>\n",
       "      <td>1000</td>\n",
       "    </tr>\n",
       "    <tr>\n",
       "      <th>3</th>\n",
       "      <td>Park A</td>\n",
       "      <td>300</td>\n",
       "      <td>1500</td>\n",
       "    </tr>\n",
       "    <tr>\n",
       "      <th>4</th>\n",
       "      <td>Museum B</td>\n",
       "      <td>180</td>\n",
       "      <td>900</td>\n",
       "    </tr>\n",
       "  </tbody>\n",
       "</table>\n",
       "</div>"
      ],
      "text/plain": [
       "   Location  Visitors  Revenue\n",
       "0    Park A       200     1000\n",
       "3    Park A       300     1500\n",
       "4  Museum B       180      900"
      ]
     },
     "execution_count": 2,
     "metadata": {},
     "output_type": "execute_result"
    }
   ],
   "source": [
    "\n",
    "# Filter rows where Visitors > 150 and Revenue > 800\n",
    "df_filtered_multi = df[(df['Visitors'] > 150) & (df['Revenue'] > 800)]\n",
    "\n",
    "# Show the result\n",
    "df_filtered_multi\n"
   ]
  },
  {
   "cell_type": "markdown",
   "id": "60cb0f12",
   "metadata": {},
   "source": [
    "\n",
    "## 3. Filtering with OR Conditions\n",
    "Sometimes, you may want to filter data where **either** of two conditions is true. This can be done using the OR operator (`|`).\n",
    "\n",
    "### Example:\n",
    "Let's filter the data to show rows where visitor counts are greater than 250 **or** revenue is below 800.\n"
   ]
  },
  {
   "cell_type": "code",
   "execution_count": 3,
   "id": "e32db740",
   "metadata": {},
   "outputs": [
    {
     "data": {
      "text/html": [
       "<div>\n",
       "<style scoped>\n",
       "    .dataframe tbody tr th:only-of-type {\n",
       "        vertical-align: middle;\n",
       "    }\n",
       "\n",
       "    .dataframe tbody tr th {\n",
       "        vertical-align: top;\n",
       "    }\n",
       "\n",
       "    .dataframe thead th {\n",
       "        text-align: right;\n",
       "    }\n",
       "</style>\n",
       "<table border=\"1\" class=\"dataframe\">\n",
       "  <thead>\n",
       "    <tr style=\"text-align: right;\">\n",
       "      <th></th>\n",
       "      <th>Location</th>\n",
       "      <th>Visitors</th>\n",
       "      <th>Revenue</th>\n",
       "    </tr>\n",
       "  </thead>\n",
       "  <tbody>\n",
       "    <tr>\n",
       "      <th>1</th>\n",
       "      <td>Museum B</td>\n",
       "      <td>150</td>\n",
       "      <td>750</td>\n",
       "    </tr>\n",
       "    <tr>\n",
       "      <th>2</th>\n",
       "      <td>Beach C</td>\n",
       "      <td>100</td>\n",
       "      <td>500</td>\n",
       "    </tr>\n",
       "    <tr>\n",
       "      <th>3</th>\n",
       "      <td>Park A</td>\n",
       "      <td>300</td>\n",
       "      <td>1500</td>\n",
       "    </tr>\n",
       "  </tbody>\n",
       "</table>\n",
       "</div>"
      ],
      "text/plain": [
       "   Location  Visitors  Revenue\n",
       "1  Museum B       150      750\n",
       "2   Beach C       100      500\n",
       "3    Park A       300     1500"
      ]
     },
     "execution_count": 3,
     "metadata": {},
     "output_type": "execute_result"
    }
   ],
   "source": [
    "\n",
    "# Filter rows where Visitors > 250 or Revenue < 800\n",
    "df_filtered_or = df[(df['Visitors'] > 250) | (df['Revenue'] < 800)]\n",
    "\n",
    "# Show the result\n",
    "df_filtered_or\n"
   ]
  },
  {
   "cell_type": "markdown",
   "id": "86873b43",
   "metadata": {},
   "source": [
    "\n",
    "## 4. Filtering with String Values\n",
    "You can also filter data based on string values. For example, you may want to filter data based on specific locations.\n",
    "\n",
    "### Example:\n",
    "Let's filter the data to show only rows where the location is 'Park A'.\n"
   ]
  },
  {
   "cell_type": "code",
   "execution_count": 4,
   "id": "6b637c7f",
   "metadata": {},
   "outputs": [
    {
     "data": {
      "text/html": [
       "<div>\n",
       "<style scoped>\n",
       "    .dataframe tbody tr th:only-of-type {\n",
       "        vertical-align: middle;\n",
       "    }\n",
       "\n",
       "    .dataframe tbody tr th {\n",
       "        vertical-align: top;\n",
       "    }\n",
       "\n",
       "    .dataframe thead th {\n",
       "        text-align: right;\n",
       "    }\n",
       "</style>\n",
       "<table border=\"1\" class=\"dataframe\">\n",
       "  <thead>\n",
       "    <tr style=\"text-align: right;\">\n",
       "      <th></th>\n",
       "      <th>Location</th>\n",
       "      <th>Visitors</th>\n",
       "      <th>Revenue</th>\n",
       "    </tr>\n",
       "  </thead>\n",
       "  <tbody>\n",
       "    <tr>\n",
       "      <th>0</th>\n",
       "      <td>Park A</td>\n",
       "      <td>200</td>\n",
       "      <td>1000</td>\n",
       "    </tr>\n",
       "    <tr>\n",
       "      <th>3</th>\n",
       "      <td>Park A</td>\n",
       "      <td>300</td>\n",
       "      <td>1500</td>\n",
       "    </tr>\n",
       "  </tbody>\n",
       "</table>\n",
       "</div>"
      ],
      "text/plain": [
       "  Location  Visitors  Revenue\n",
       "0   Park A       200     1000\n",
       "3   Park A       300     1500"
      ]
     },
     "execution_count": 4,
     "metadata": {},
     "output_type": "execute_result"
    }
   ],
   "source": [
    "\n",
    "# Filter rows where Location is 'Park A'\n",
    "df_filtered_string = df[df['Location'] == 'Park A']\n",
    "\n",
    "# Show the result\n",
    "df_filtered_string\n"
   ]
  },
  {
   "cell_type": "markdown",
   "id": "3c8a3be0",
   "metadata": {},
   "source": [
    "\n",
    "## 5. Combining Multiple String Conditions\n",
    "Just like numeric conditions, you can combine multiple string conditions using the AND or OR operators.\n",
    "\n",
    "### Example:\n",
    "Let's filter the data to show rows where the location is either 'Park A' or 'Museum B'.\n"
   ]
  },
  {
   "cell_type": "code",
   "execution_count": 5,
   "id": "f4414d70",
   "metadata": {},
   "outputs": [
    {
     "data": {
      "text/html": [
       "<div>\n",
       "<style scoped>\n",
       "    .dataframe tbody tr th:only-of-type {\n",
       "        vertical-align: middle;\n",
       "    }\n",
       "\n",
       "    .dataframe tbody tr th {\n",
       "        vertical-align: top;\n",
       "    }\n",
       "\n",
       "    .dataframe thead th {\n",
       "        text-align: right;\n",
       "    }\n",
       "</style>\n",
       "<table border=\"1\" class=\"dataframe\">\n",
       "  <thead>\n",
       "    <tr style=\"text-align: right;\">\n",
       "      <th></th>\n",
       "      <th>Location</th>\n",
       "      <th>Visitors</th>\n",
       "      <th>Revenue</th>\n",
       "    </tr>\n",
       "  </thead>\n",
       "  <tbody>\n",
       "    <tr>\n",
       "      <th>0</th>\n",
       "      <td>Park A</td>\n",
       "      <td>200</td>\n",
       "      <td>1000</td>\n",
       "    </tr>\n",
       "    <tr>\n",
       "      <th>1</th>\n",
       "      <td>Museum B</td>\n",
       "      <td>150</td>\n",
       "      <td>750</td>\n",
       "    </tr>\n",
       "    <tr>\n",
       "      <th>3</th>\n",
       "      <td>Park A</td>\n",
       "      <td>300</td>\n",
       "      <td>1500</td>\n",
       "    </tr>\n",
       "    <tr>\n",
       "      <th>4</th>\n",
       "      <td>Museum B</td>\n",
       "      <td>180</td>\n",
       "      <td>900</td>\n",
       "    </tr>\n",
       "  </tbody>\n",
       "</table>\n",
       "</div>"
      ],
      "text/plain": [
       "   Location  Visitors  Revenue\n",
       "0    Park A       200     1000\n",
       "1  Museum B       150      750\n",
       "3    Park A       300     1500\n",
       "4  Museum B       180      900"
      ]
     },
     "execution_count": 5,
     "metadata": {},
     "output_type": "execute_result"
    }
   ],
   "source": [
    "\n",
    "# Filter rows where Location is 'Park A' or 'Museum B'\n",
    "df_filtered_multi_string = df[(df['Location'] == 'Park A') | (df['Location'] == 'Museum B')]\n",
    "\n",
    "# Show the result\n",
    "df_filtered_multi_string\n"
   ]
  },
  {
   "cell_type": "markdown",
   "id": "8e30896b",
   "metadata": {},
   "source": [
    "\n",
    "## 6. Summary\n",
    "This week, you learned how to:\n",
    "1. Filter data based on conditions using boolean indexing.\n",
    "2. Combine multiple conditions to filter data more effectively.\n",
    "3. Filter data based on string values and combine string conditions.\n",
    "\n",
    "### Homework:\n",
    "- Practice filtering data from a new dataset using the techniques you learned this week.\n",
    "- Experiment with filtering based on both numeric and string conditions for deeper insights.\n",
    "\n"
   ]
  }
 ],
 "metadata": {
  "kernelspec": {
   "display_name": "Python 3 (ipykernel)",
   "language": "python",
   "name": "python3"
  },
  "language_info": {
   "codemirror_mode": {
    "name": "ipython",
    "version": 3
   },
   "file_extension": ".py",
   "mimetype": "text/x-python",
   "name": "python",
   "nbconvert_exporter": "python",
   "pygments_lexer": "ipython3",
   "version": "3.10.13"
  }
 },
 "nbformat": 4,
 "nbformat_minor": 5
}
