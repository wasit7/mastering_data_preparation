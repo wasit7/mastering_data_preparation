{
 "cells": [
  {
   "cell_type": "markdown",
   "id": "e07f6da8",
   "metadata": {},
   "source": [
    "# Week 1: Introduction to Data Science and Overview of the Pathumthani Platform"
   ]
  },
  {
   "cell_type": "markdown",
   "id": "c8665ac2",
   "metadata": {},
   "source": [
    "\n",
    "## Objectives:\n",
    "In this first week, you will:\n",
    "1. Understand the importance of data-driven decision-making in modern platforms.\n",
    "2. Get an overview of the Pathumthani Digital Platform.\n",
    "3. Learn about the various datasets from tourism, agriculture, and sports.\n",
    "4. Explore how data science helps improve the platform's insights.\n",
    "\n"
   ]
  },
  {
   "cell_type": "markdown",
   "id": "8080b7ae",
   "metadata": {},
   "source": [
    "\n",
    "## 1. Introduction to Data Science\n",
    "Data science is a field that combines statistical analysis, machine learning, and programming to extract insights from structured and unstructured data. Platforms like the Pathumthani Digital Platform rely on data science to:\n",
    "- Provide real-time updates to users.\n",
    "- Analyze large volumes of data from different sectors.\n",
    "- Improve decision-making by leveraging historical and real-time data.\n",
    "\n",
    "### Why Data Science?\n",
    "Data science helps organizations make informed decisions by transforming raw data into actionable insights.\n",
    "- **Business**: Companies use data science to analyze customer behavior, optimize marketing strategies, and improve operations.\n",
    "- **Government**: Local authorities use data to improve services like traffic management, urban planning, and public health.\n"
   ]
  },
  {
   "cell_type": "markdown",
   "id": "ee2b8c25",
   "metadata": {},
   "source": [
    "\n",
    "## 2. Overview of the Pathumthani Digital Platform\n",
    "The Pathumthani Digital Platform is designed to integrate data from multiple sectors, including tourism, agriculture, and sports, to provide real-time insights for local authorities, businesses, and tourists.\n",
    "\n",
    "### Key Features:\n",
    "- **Real-time updates**: Track the number of visitors to tourist spots and monitor crowd levels.\n",
    "- **Agriculture data**: Use sensor data to track crop growth and optimize farming practices.\n",
    "- **Sports activities**: Provide live updates on local sports events and track participation rates.\n",
    "\n",
    "### Datasets:\n",
    "- **Tourism**: Data on the number of visitors, ticket sales, and feedback.\n",
    "- **Agriculture**: Data on crop yields, soil conditions, and weather forecasts.\n",
    "- **Sports**: Participation rates, event schedules, and real-time scores.\n"
   ]
  },
  {
   "cell_type": "markdown",
   "id": "694c1103",
   "metadata": {},
   "source": [
    "\n",
    "## 3. Example: Loading a Dataset with Pandas\n",
    "We'll start by loading a simple dataset to see how data is structured and how we can manipulate it using Python's `pandas` library.\n"
   ]
  },
  {
   "cell_type": "code",
   "execution_count": 1,
   "id": "77bc781f",
   "metadata": {},
   "outputs": [
    {
     "data": {
      "text/html": [
       "<div>\n",
       "<style scoped>\n",
       "    .dataframe tbody tr th:only-of-type {\n",
       "        vertical-align: middle;\n",
       "    }\n",
       "\n",
       "    .dataframe tbody tr th {\n",
       "        vertical-align: top;\n",
       "    }\n",
       "\n",
       "    .dataframe thead th {\n",
       "        text-align: right;\n",
       "    }\n",
       "</style>\n",
       "<table border=\"1\" class=\"dataframe\">\n",
       "  <thead>\n",
       "    <tr style=\"text-align: right;\">\n",
       "      <th></th>\n",
       "      <th>Visitor ID</th>\n",
       "      <th>Visit Date</th>\n",
       "      <th>Location</th>\n",
       "      <th>Visitors</th>\n",
       "    </tr>\n",
       "  </thead>\n",
       "  <tbody>\n",
       "    <tr>\n",
       "      <th>0</th>\n",
       "      <td>1</td>\n",
       "      <td>2024-01-01</td>\n",
       "      <td>Park A</td>\n",
       "      <td>200</td>\n",
       "    </tr>\n",
       "    <tr>\n",
       "      <th>1</th>\n",
       "      <td>2</td>\n",
       "      <td>2024-01-02</td>\n",
       "      <td>Museum B</td>\n",
       "      <td>150</td>\n",
       "    </tr>\n",
       "    <tr>\n",
       "      <th>2</th>\n",
       "      <td>3</td>\n",
       "      <td>2024-01-03</td>\n",
       "      <td>Park A</td>\n",
       "      <td>300</td>\n",
       "    </tr>\n",
       "    <tr>\n",
       "      <th>3</th>\n",
       "      <td>4</td>\n",
       "      <td>2024-01-04</td>\n",
       "      <td>Beach C</td>\n",
       "      <td>100</td>\n",
       "    </tr>\n",
       "  </tbody>\n",
       "</table>\n",
       "</div>"
      ],
      "text/plain": [
       "   Visitor ID  Visit Date  Location  Visitors\n",
       "0           1  2024-01-01    Park A       200\n",
       "1           2  2024-01-02  Museum B       150\n",
       "2           3  2024-01-03    Park A       300\n",
       "3           4  2024-01-04   Beach C       100"
      ]
     },
     "execution_count": 1,
     "metadata": {},
     "output_type": "execute_result"
    }
   ],
   "source": [
    "\n",
    "# Importing pandas and loading a sample dataset\n",
    "import pandas as pd\n",
    "\n",
    "# Load a sample dataset (replace with actual data later)\n",
    "data = {\n",
    "    'Visitor ID': [1, 2, 3, 4],\n",
    "    'Visit Date': ['2024-01-01', '2024-01-02', '2024-01-03', '2024-01-04'],\n",
    "    'Location': ['Park A', 'Museum B', 'Park A', 'Beach C'],\n",
    "    'Visitors': [200, 150, 300, 100]\n",
    "}\n",
    "\n",
    "df = pd.DataFrame(data)\n",
    "\n",
    "# Display the dataset\n",
    "df\n"
   ]
  },
  {
   "cell_type": "markdown",
   "id": "6abf4ea7",
   "metadata": {},
   "source": [
    "\n",
    "## 4. Summary\n",
    "This week, you learned about the importance of data science, how the Pathumthani Digital Platform uses data to provide real-time insights, and how to load a simple dataset using `pandas`.\n",
    "\n",
    "### Homework:\n",
    "- Research how data science is used in tourism or agriculture sectors.\n",
    "- Load a dataset from the tourism or agriculture sector and explore it using `pandas`.\n"
   ]
  }
 ],
 "metadata": {
  "kernelspec": {
   "display_name": "Python 3 (ipykernel)",
   "language": "python",
   "name": "python3"
  },
  "language_info": {
   "codemirror_mode": {
    "name": "ipython",
    "version": 3
   },
   "file_extension": ".py",
   "mimetype": "text/x-python",
   "name": "python",
   "nbconvert_exporter": "python",
   "pygments_lexer": "ipython3",
   "version": "3.10.13"
  }
 },
 "nbformat": 4,
 "nbformat_minor": 5
}
