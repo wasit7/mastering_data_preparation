{
 "cells": [
  {
   "cell_type": "markdown",
   "id": "d0a94b03",
   "metadata": {},
   "source": [
    "# Week 5: Grouping and Aggregating Data"
   ]
  },
  {
   "cell_type": "markdown",
   "id": "3b76fcf9",
   "metadata": {},
   "source": [
    "\n",
    "## Objectives:\n",
    "In this week, you will:\n",
    "1. Learn how to group data based on categories or conditions.\n",
    "2. Perform aggregations such as sums, means, and counts on grouped data.\n",
    "3. Use advanced aggregation functions for custom analyses.\n",
    "\n"
   ]
  },
  {
   "cell_type": "markdown",
   "id": "9dbab776",
   "metadata": {},
   "source": [
    "\n",
    "## 1. Introduction to Grouping Data\n",
    "Grouping data is an important step when you need to analyze or summarize data based on categories. For example, you may want to group visitor data by location or by date.\n",
    "\n",
    "### Common Functions:\n",
    "- `groupby()`: Group the data by one or more columns.\n",
    "- Aggregation functions: `sum()`, `mean()`, `count()`, etc.\n",
    "\n",
    "Let's start by loading a dataset and grouping the data by location to calculate the total number of visitors.\n"
   ]
  },
  {
   "cell_type": "code",
   "execution_count": 1,
   "id": "ee48fdb2",
   "metadata": {},
   "outputs": [
    {
     "data": {
      "text/plain": [
       "Location\n",
       "Beach C     100\n",
       "Museum B    330\n",
       "Park A      500\n",
       "Name: Visitors, dtype: int64"
      ]
     },
     "execution_count": 1,
     "metadata": {},
     "output_type": "execute_result"
    }
   ],
   "source": [
    "\n",
    "# Import pandas and load a sample dataset\n",
    "import pandas as pd\n",
    "\n",
    "# Sample dataset\n",
    "data = {\n",
    "    'Location': ['Park A', 'Museum B', 'Beach C', 'Park A', 'Museum B'],\n",
    "    'Visitors': [200, 150, 100, 300, 180],\n",
    "    'Revenue': [1000, 750, 500, 1500, 900]\n",
    "}\n",
    "\n",
    "df = pd.DataFrame(data)\n",
    "\n",
    "# Group data by 'Location' and calculate the total number of visitors\n",
    "df_grouped = df.groupby('Location')['Visitors'].sum()\n",
    "\n",
    "# Show the result\n",
    "df_grouped\n"
   ]
  },
  {
   "cell_type": "markdown",
   "id": "6e5f52c0",
   "metadata": {},
   "source": [
    "\n",
    "## 2. Aggregating Multiple Columns\n",
    "You can perform aggregations on multiple columns at the same time. For example, you might want to calculate the total visitors and the total revenue for each location.\n",
    "\n",
    "### Example:\n",
    "Let's group the data by location and calculate both total visitors and total revenue.\n"
   ]
  },
  {
   "cell_type": "code",
   "execution_count": 2,
   "id": "c321375b",
   "metadata": {},
   "outputs": [
    {
     "data": {
      "text/html": [
       "<div>\n",
       "<style scoped>\n",
       "    .dataframe tbody tr th:only-of-type {\n",
       "        vertical-align: middle;\n",
       "    }\n",
       "\n",
       "    .dataframe tbody tr th {\n",
       "        vertical-align: top;\n",
       "    }\n",
       "\n",
       "    .dataframe thead th {\n",
       "        text-align: right;\n",
       "    }\n",
       "</style>\n",
       "<table border=\"1\" class=\"dataframe\">\n",
       "  <thead>\n",
       "    <tr style=\"text-align: right;\">\n",
       "      <th></th>\n",
       "      <th>Visitors</th>\n",
       "      <th>Revenue</th>\n",
       "    </tr>\n",
       "    <tr>\n",
       "      <th>Location</th>\n",
       "      <th></th>\n",
       "      <th></th>\n",
       "    </tr>\n",
       "  </thead>\n",
       "  <tbody>\n",
       "    <tr>\n",
       "      <th>Beach C</th>\n",
       "      <td>100</td>\n",
       "      <td>500</td>\n",
       "    </tr>\n",
       "    <tr>\n",
       "      <th>Museum B</th>\n",
       "      <td>330</td>\n",
       "      <td>1650</td>\n",
       "    </tr>\n",
       "    <tr>\n",
       "      <th>Park A</th>\n",
       "      <td>500</td>\n",
       "      <td>2500</td>\n",
       "    </tr>\n",
       "  </tbody>\n",
       "</table>\n",
       "</div>"
      ],
      "text/plain": [
       "          Visitors  Revenue\n",
       "Location                   \n",
       "Beach C        100      500\n",
       "Museum B       330     1650\n",
       "Park A         500     2500"
      ]
     },
     "execution_count": 2,
     "metadata": {},
     "output_type": "execute_result"
    }
   ],
   "source": [
    "\n",
    "# Group by 'Location' and calculate total visitors and total revenue\n",
    "df_agg = df.groupby('Location').agg({\n",
    "    'Visitors': 'sum',\n",
    "    'Revenue': 'sum'\n",
    "})\n",
    "\n",
    "# Show the result\n",
    "df_agg\n"
   ]
  },
  {
   "cell_type": "markdown",
   "id": "a39c6c87",
   "metadata": {},
   "source": [
    "\n",
    "## 3. Applying Custom Aggregation Functions\n",
    "In addition to basic aggregation functions like `sum()` and `mean()`, you can apply custom aggregation functions to perform more complex analyses.\n",
    "\n",
    "### Example:\n",
    "Let's apply a custom function to calculate the average revenue per visitor for each location.\n"
   ]
  },
  {
   "cell_type": "code",
   "execution_count": 3,
   "id": "5a487545",
   "metadata": {},
   "outputs": [
    {
     "data": {
      "text/plain": [
       "Location\n",
       "Beach C     5.0\n",
       "Museum B    5.0\n",
       "Park A      5.0\n",
       "dtype: float64"
      ]
     },
     "execution_count": 3,
     "metadata": {},
     "output_type": "execute_result"
    }
   ],
   "source": [
    "\n",
    "# Define a custom function to calculate average revenue per visitor\n",
    "def avg_revenue_per_visitor(x):\n",
    "    return x['Revenue'].sum() / x['Visitors'].sum()\n",
    "\n",
    "# Apply the custom aggregation function\n",
    "df_custom = df.groupby('Location').apply(avg_revenue_per_visitor)\n",
    "\n",
    "# Show the result\n",
    "df_custom\n"
   ]
  },
  {
   "cell_type": "markdown",
   "id": "a603d913",
   "metadata": {},
   "source": [
    "\n",
    "## 4. Grouping by Multiple Columns\n",
    "You can also group data by multiple columns to perform more detailed analyses. For example, you might want to group by both location and date to analyze trends over time.\n",
    "\n",
    "### Example:\n",
    "Let's group the data by both location and visitors to see how the results change.\n"
   ]
  },
  {
   "cell_type": "code",
   "execution_count": 4,
   "id": "4f759179",
   "metadata": {},
   "outputs": [
    {
     "data": {
      "text/html": [
       "<div>\n",
       "<style scoped>\n",
       "    .dataframe tbody tr th:only-of-type {\n",
       "        vertical-align: middle;\n",
       "    }\n",
       "\n",
       "    .dataframe tbody tr th {\n",
       "        vertical-align: top;\n",
       "    }\n",
       "\n",
       "    .dataframe thead th {\n",
       "        text-align: right;\n",
       "    }\n",
       "</style>\n",
       "<table border=\"1\" class=\"dataframe\">\n",
       "  <thead>\n",
       "    <tr style=\"text-align: right;\">\n",
       "      <th></th>\n",
       "      <th></th>\n",
       "      <th>Revenue</th>\n",
       "    </tr>\n",
       "    <tr>\n",
       "      <th>Location</th>\n",
       "      <th>Visitors</th>\n",
       "      <th></th>\n",
       "    </tr>\n",
       "  </thead>\n",
       "  <tbody>\n",
       "    <tr>\n",
       "      <th>Beach C</th>\n",
       "      <th>100</th>\n",
       "      <td>500</td>\n",
       "    </tr>\n",
       "    <tr>\n",
       "      <th rowspan=\"2\" valign=\"top\">Museum B</th>\n",
       "      <th>150</th>\n",
       "      <td>750</td>\n",
       "    </tr>\n",
       "    <tr>\n",
       "      <th>180</th>\n",
       "      <td>900</td>\n",
       "    </tr>\n",
       "    <tr>\n",
       "      <th rowspan=\"2\" valign=\"top\">Park A</th>\n",
       "      <th>200</th>\n",
       "      <td>1000</td>\n",
       "    </tr>\n",
       "    <tr>\n",
       "      <th>300</th>\n",
       "      <td>1500</td>\n",
       "    </tr>\n",
       "  </tbody>\n",
       "</table>\n",
       "</div>"
      ],
      "text/plain": [
       "                   Revenue\n",
       "Location Visitors         \n",
       "Beach C  100           500\n",
       "Museum B 150           750\n",
       "         180           900\n",
       "Park A   200          1000\n",
       "         300          1500"
      ]
     },
     "execution_count": 4,
     "metadata": {},
     "output_type": "execute_result"
    }
   ],
   "source": [
    "\n",
    "# Group by 'Location' and 'Visitors'\n",
    "df_multi_group = df.groupby(['Location', 'Visitors']).sum()\n",
    "\n",
    "# Show the result\n",
    "df_multi_group\n"
   ]
  },
  {
   "cell_type": "markdown",
   "id": "fb05752e",
   "metadata": {},
   "source": [
    "\n",
    "## 5. Summary\n",
    "This week, you learned how to:\n",
    "1. Group data using `groupby()` and apply basic aggregation functions.\n",
    "2. Perform custom aggregation functions for more detailed analysis.\n",
    "3. Group data by multiple columns for complex insights.\n",
    "\n",
    "### Homework:\n",
    "- Practice grouping and aggregating data on a new dataset.\n",
    "- Experiment with custom aggregation functions and see how they can help with your analysis.\n",
    "\n"
   ]
  }
 ],
 "metadata": {
  "kernelspec": {
   "display_name": "Python 3 (ipykernel)",
   "language": "python",
   "name": "python3"
  },
  "language_info": {
   "codemirror_mode": {
    "name": "ipython",
    "version": 3
   },
   "file_extension": ".py",
   "mimetype": "text/x-python",
   "name": "python",
   "nbconvert_exporter": "python",
   "pygments_lexer": "ipython3",
   "version": "3.10.13"
  }
 },
 "nbformat": 4,
 "nbformat_minor": 5
}
