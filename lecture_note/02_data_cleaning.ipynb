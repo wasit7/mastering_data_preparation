{
 "cells": [
  {
   "cell_type": "markdown",
   "metadata": {},
   "source": [
    "# Data Cleaning with Pandas\n",
    "In this notebook, we will explore various data cleaning techniques using `pandas` in Python.\n",
    "We will work on detecting and handling missing values, removing duplicates, standardizing data formats, and more."
   ]
  },
  {
   "cell_type": "code",
   "execution_count": null,
   "metadata": {},
   "outputs": [],
   "source": [
    "import pandas as pd\n",
    "import numpy as np\n",
    "\n",
    "# Example data\n",
    "data = {'Name': ['John Doe', 'Jane Smith', 'Alice Johnson', None, 'Michael Brown'],\n",
    "        'Age': [28, 34, None, 45, 22],\n",
    "        'Date of Visit': ['2022-01-10', '2022/02/15', '15-03-2022', '2022-04-20', None],\n",
    "        'Visitor Count': [5, None, 8, 12, 3]}\n",
    "\n",
    "# Creating a DataFrame\n",
    "df = pd.DataFrame(data)\n",
    "df"
   ]
  },
  {
   "cell_type": "markdown",
   "metadata": {},
   "source": [
    "## Step 1: Handling Missing Values\n",
    "Let's detect missing values in our dataset and explore different ways to handle them."
   ]
  },
  {
   "cell_type": "code",
   "execution_count": null,
   "metadata": {},
   "outputs": [],
   "source": [
    "# Detect missing values\n",
    "df.isnull()"
   ]
  },
  {
   "cell_type": "code",
   "execution_count": null,
   "metadata": {},
   "outputs": [],
   "source": [
    "# Filling missing values in 'Age' column with the mean age\n",
    "df['Age'].fillna(df['Age'].mean(), inplace=True)\n",
    "df"
   ]
  },
  {
   "cell_type": "markdown",
   "metadata": {},
   "source": [
    "## Step 2: Removing Duplicates\n",
    "Sometimes datasets contain duplicate records. We can identify and remove them using pandas."
   ]
  },
  {
   "cell_type": "code",
   "execution_count": null,
   "metadata": {},
   "outputs": [],
   "source": [
    "# Check for duplicates\n",
    "df.duplicated()"
   ]
  },
  {
   "cell_type": "code",
   "execution_count": null,
   "metadata": {},
   "outputs": [],
   "source": [
    "# Removing duplicates if any exist\n",
    "df.drop_duplicates(inplace=True)\n",
    "df"
   ]
  },
  {
   "cell_type": "markdown",
   "metadata": {},
   "source": [
    "## Step 3: Standardizing Date Formats\n",
    "Inconsistent date formats can lead to errors in analysis. Let's standardize the 'Date of Visit' column."
   ]
  },
  {
   "cell_type": "code",
   "execution_count": null,
   "metadata": {},
   "outputs": [],
   "source": [
    "# Convert the 'Date of Visit' to a standard format (YYYY-MM-DD)\n",
    "df['Date of Visit'] = pd.to_datetime(df['Date of Visit'], errors='coerce')\n",
    "df"
   ]
  },
  {
   "cell_type": "markdown",
   "metadata": {},
   "source": [
    "## Summary\n",
    "In this notebook, we have demonstrated:\n",
    "- How to handle missing values\n",
    "- How to identify and remove duplicates\n",
    "- How to standardize date formats\n",
    "\n",
    "Next, we will explore real-time data processing in the following notebook."
   ]
  }
 ],
 "metadata": {
  "kernelspec": {
   "display_name": "Python 3 (ipykernel)",
   "language": "python",
   "name": "python3"
  },
  "language_info": {
   "codemirror_mode": {
    "name": "ipython",
    "version": 3
   },
   "file_extension": ".py",
   "mimetype": "text/x-python",
   "name": "python",
   "nbconvert_exporter": "python",
   "pygments_lexer": "ipython3",
   "version": "3.10.13"
  }
 },
 "nbformat": 4,
 "nbformat_minor": 4
}
