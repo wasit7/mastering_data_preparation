{
 "cells": [
  {
   "cell_type": "markdown",
   "metadata": {},
   "source": [
    "# Data Validation and Quality Assurance with Pandas\n",
    "In this notebook, we will explore how to validate data and ensure quality using `pandas` in Python.\n",
    "We will demonstrate how to apply validation rules, detect data anomalies, and set up quality monitoring."
   ]
  },
  {
   "cell_type": "markdown",
   "metadata": {},
   "source": [
    "## Step 1: Defining Validation Rules\n",
    "We will start by setting up basic validation rules to ensure data accuracy. These rules may include checks for ranges, data types, and required fields."
   ]
  },
  {
   "cell_type": "code",
   "execution_count": 1,
   "metadata": {},
   "outputs": [
    {
     "data": {
      "text/html": [
       "<div>\n",
       "<style scoped>\n",
       "    .dataframe tbody tr th:only-of-type {\n",
       "        vertical-align: middle;\n",
       "    }\n",
       "\n",
       "    .dataframe tbody tr th {\n",
       "        vertical-align: top;\n",
       "    }\n",
       "\n",
       "    .dataframe thead th {\n",
       "        text-align: right;\n",
       "    }\n",
       "</style>\n",
       "<table border=\"1\" class=\"dataframe\">\n",
       "  <thead>\n",
       "    <tr style=\"text-align: right;\">\n",
       "      <th></th>\n",
       "      <th>Name</th>\n",
       "      <th>Age</th>\n",
       "      <th>Salary</th>\n",
       "    </tr>\n",
       "  </thead>\n",
       "  <tbody>\n",
       "    <tr>\n",
       "      <th>0</th>\n",
       "      <td>John</td>\n",
       "      <td>25</td>\n",
       "      <td>50000.0</td>\n",
       "    </tr>\n",
       "    <tr>\n",
       "      <th>1</th>\n",
       "      <td>Alice</td>\n",
       "      <td>22</td>\n",
       "      <td>70000.0</td>\n",
       "    </tr>\n",
       "    <tr>\n",
       "      <th>2</th>\n",
       "      <td>Bob</td>\n",
       "      <td>-5</td>\n",
       "      <td>60000.0</td>\n",
       "    </tr>\n",
       "    <tr>\n",
       "      <th>3</th>\n",
       "      <td>Clara</td>\n",
       "      <td>30</td>\n",
       "      <td>NaN</td>\n",
       "    </tr>\n",
       "    <tr>\n",
       "      <th>4</th>\n",
       "      <td>None</td>\n",
       "      <td>28</td>\n",
       "      <td>45000.0</td>\n",
       "    </tr>\n",
       "  </tbody>\n",
       "</table>\n",
       "</div>"
      ],
      "text/plain": [
       "    Name  Age   Salary\n",
       "0   John   25  50000.0\n",
       "1  Alice   22  70000.0\n",
       "2    Bob   -5  60000.0\n",
       "3  Clara   30      NaN\n",
       "4   None   28  45000.0"
      ]
     },
     "execution_count": 1,
     "metadata": {},
     "output_type": "execute_result"
    }
   ],
   "source": [
    "import pandas as pd\n",
    "\n",
    "# Sample dataset\n",
    "data = {'Name': ['John', 'Alice', 'Bob', 'Clara', None],\n",
    "        'Age': [25, 22, -5, 30, 28],  # Invalid age '-5'\n",
    "        'Salary': [50000, 70000, 60000, None, 45000]}  # Missing salary\n",
    "\n",
    "df = pd.DataFrame(data)\n",
    "df"
   ]
  },
  {
   "cell_type": "markdown",
   "metadata": {},
   "source": [
    "## Step 2: Validating Data\n",
    "We will check for the following issues:\n",
    "- Missing values in required fields.\n",
    "- Invalid data types.\n",
    "- Values out of the acceptable range."
   ]
  },
  {
   "cell_type": "code",
   "execution_count": 2,
   "metadata": {},
   "outputs": [
    {
     "name": "stdout",
     "output_type": "stream",
     "text": [
      "Missing Values:\n",
      "Name      1\n",
      "Age       0\n",
      "Salary    1\n",
      "dtype: int64\n",
      "\n",
      "Invalid Age Entries:\n",
      "  Name  Age   Salary\n",
      "2  Bob   -5  60000.0\n"
     ]
    }
   ],
   "source": [
    "# Check for missing values\n",
    "missing_values = df.isnull().sum()\n",
    "print('Missing Values:')\n",
    "print(missing_values)\n",
    "\n",
    "# Check for invalid ages (ages should be between 0 and 120)\n",
    "invalid_ages = df[(df['Age'] < 0) | (df['Age'] > 120)]\n",
    "print('\\nInvalid Age Entries:')\n",
    "print(invalid_ages)\n"
   ]
  },
  {
   "cell_type": "markdown",
   "metadata": {},
   "source": [
    "## Step 3: Applying Corrections\n",
    "After detecting the data quality issues, we will apply corrections.\n",
    "- Replace missing salary values with the mean salary.\n",
    "- Replace invalid ages with `NaN`."
   ]
  },
  {
   "cell_type": "code",
   "execution_count": 3,
   "metadata": {},
   "outputs": [
    {
     "data": {
      "text/html": [
       "<div>\n",
       "<style scoped>\n",
       "    .dataframe tbody tr th:only-of-type {\n",
       "        vertical-align: middle;\n",
       "    }\n",
       "\n",
       "    .dataframe tbody tr th {\n",
       "        vertical-align: top;\n",
       "    }\n",
       "\n",
       "    .dataframe thead th {\n",
       "        text-align: right;\n",
       "    }\n",
       "</style>\n",
       "<table border=\"1\" class=\"dataframe\">\n",
       "  <thead>\n",
       "    <tr style=\"text-align: right;\">\n",
       "      <th></th>\n",
       "      <th>Name</th>\n",
       "      <th>Age</th>\n",
       "      <th>Salary</th>\n",
       "    </tr>\n",
       "  </thead>\n",
       "  <tbody>\n",
       "    <tr>\n",
       "      <th>0</th>\n",
       "      <td>John</td>\n",
       "      <td>25.0</td>\n",
       "      <td>50000.0</td>\n",
       "    </tr>\n",
       "    <tr>\n",
       "      <th>1</th>\n",
       "      <td>Alice</td>\n",
       "      <td>22.0</td>\n",
       "      <td>70000.0</td>\n",
       "    </tr>\n",
       "    <tr>\n",
       "      <th>2</th>\n",
       "      <td>Bob</td>\n",
       "      <td>NaN</td>\n",
       "      <td>60000.0</td>\n",
       "    </tr>\n",
       "    <tr>\n",
       "      <th>3</th>\n",
       "      <td>Clara</td>\n",
       "      <td>30.0</td>\n",
       "      <td>56250.0</td>\n",
       "    </tr>\n",
       "    <tr>\n",
       "      <th>4</th>\n",
       "      <td>None</td>\n",
       "      <td>28.0</td>\n",
       "      <td>45000.0</td>\n",
       "    </tr>\n",
       "  </tbody>\n",
       "</table>\n",
       "</div>"
      ],
      "text/plain": [
       "    Name   Age   Salary\n",
       "0   John  25.0  50000.0\n",
       "1  Alice  22.0  70000.0\n",
       "2    Bob   NaN  60000.0\n",
       "3  Clara  30.0  56250.0\n",
       "4   None  28.0  45000.0"
      ]
     },
     "execution_count": 3,
     "metadata": {},
     "output_type": "execute_result"
    }
   ],
   "source": [
    "import numpy as np\n",
    "\n",
    "# Replacing missing salaries with the mean salary\n",
    "df['Salary'].fillna(df['Salary'].mean(), inplace=True)\n",
    "\n",
    "# Replacing invalid ages with NaN\n",
    "df['Age'] = df['Age'].apply(lambda x: np.nan if x < 0 or x > 120 else x)\n",
    "\n",
    "df"
   ]
  },
  {
   "cell_type": "markdown",
   "metadata": {},
   "source": [
    "## Step 4: Setting Up Data Quality Monitoring\n",
    "To continuously ensure data quality, we can implement automated checks. Here, we'll simulate ongoing monitoring to detect any future issues."
   ]
  },
  {
   "cell_type": "code",
   "execution_count": 4,
   "metadata": {},
   "outputs": [
    {
     "name": "stdout",
     "output_type": "stream",
     "text": [
      "Data contains invalid ages!\n"
     ]
    }
   ],
   "source": [
    "# Function to validate incoming data in real-time\n",
    "def validate_data(df):\n",
    "    missing_values = df.isnull().sum()\n",
    "    invalid_ages = df[(df['Age'] < 0) | (df['Age'] > 120)]\n",
    "    if missing_values.any():\n",
    "        print('Data contains missing values!')\n",
    "    if not invalid_ages.empty:\n",
    "        print('Data contains invalid ages!')\n",
    "    else:\n",
    "        print('Data is valid.')\n",
    "\n",
    "# Simulate validating a new dataset\n",
    "new_data = {'Name': ['Eve', 'Frank'], 'Age': [45, -10], 'Salary': [52000, 61000]}\n",
    "df_new = pd.DataFrame(new_data)\n",
    "validate_data(df_new)\n"
   ]
  },
  {
   "cell_type": "markdown",
   "metadata": {},
   "source": [
    "## Step 5: Logging Data Validation Results\n",
    "It's important to log data quality issues for auditing and future reference. Let's create a simple log file to store validation results."
   ]
  },
  {
   "cell_type": "code",
   "execution_count": 5,
   "metadata": {},
   "outputs": [
    {
     "data": {
      "text/plain": [
       "[{'Issue': 'Missing Values', 'Count': 2},\n",
       " {'Issue': 'Invalid Ages', 'Count': 1}]"
      ]
     },
     "execution_count": 5,
     "metadata": {},
     "output_type": "execute_result"
    }
   ],
   "source": [
    "# Create a log of validation results\n",
    "validation_log = []\n",
    "\n",
    "# Append issues to log\n",
    "validation_log.append({'Issue': 'Missing Values', 'Count': missing_values.sum()})\n",
    "validation_log.append({'Issue': 'Invalid Ages', 'Count': len(invalid_ages)})\n",
    "\n",
    "validation_log\n"
   ]
  },
  {
   "cell_type": "markdown",
   "metadata": {},
   "source": [
    "## Summary\n",
    "In this notebook, we have demonstrated how to:\n",
    "- Set up validation rules for data accuracy.\n",
    "- Detect common data quality issues such as missing values and invalid ranges.\n",
    "- Apply corrections to the dataset.\n",
    "- Set up real-time monitoring to validate incoming data.\n",
    "- Log data validation results for auditing.\n",
    "\n",
    "In the next notebook, we will focus on integrating these concepts with the overall platform."
   ]
  }
 ],
 "metadata": {
  "kernelspec": {
   "display_name": "Python 3 (ipykernel)",
   "language": "python",
   "name": "python3"
  },
  "language_info": {
   "codemirror_mode": {
    "name": "ipython",
    "version": 3
   },
   "file_extension": ".py",
   "mimetype": "text/x-python",
   "name": "python",
   "nbconvert_exporter": "python",
   "pygments_lexer": "ipython3",
   "version": "3.10.13"
  }
 },
 "nbformat": 4,
 "nbformat_minor": 4
}
