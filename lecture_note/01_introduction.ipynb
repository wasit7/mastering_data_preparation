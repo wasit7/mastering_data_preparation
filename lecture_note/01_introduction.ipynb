{
 "cells": [
  {
   "cell_type": "markdown",
   "metadata": {},
   "source": [
    "# Introduction to the Demo\n",
    "Welcome to the demo on Data Cleaning, Quality Assurance, and Real-Time Data Processing for Data Science.\n",
    "\n",
    "In this notebook, we will go over the objectives of the demo, explain the importance of the processes we will cover, and introduce the Pathumthani Digital Platform as the context for applying these concepts.\n"
   ]
  },
  {
   "cell_type": "markdown",
   "metadata": {},
   "source": [
    "## Objectives\n",
    "- Understand the importance of data cleaning and how to automate it.\n",
    "- Learn about data quality assurance and validation techniques.\n",
    "- Explore real-time data processing and Change Data Capture (CDC).\n",
    "- Apply these techniques using Python and pandas to ensure reliable data for analysis.\n"
   ]
  },
  {
   "cell_type": "markdown",
   "metadata": {},
   "source": [
    "## Overview of the Pathumthani Digital Platform\n",
    "The Pathumthani Digital Platform collects data from various sectors such as tourism, agriculture, and sports. \n",
    "To provide accurate insights and make informed decisions, it is crucial that this data is reliable, consistent, and complete.\n",
    "\n",
    "In this demo, you will learn how to ensure that data used in this platform is clean and ready for analysis, as well as how to handle real-time data streams and track changes in the data effectively.\n"
   ]
  },
  {
   "cell_type": "markdown",
   "metadata": {},
   "source": [
    "## Next Steps\n",
    "Proceed to the next notebook to start with **Data Cleaning** using pandas and Python scripts."
   ]
  }
 ],
 "metadata": {
  "kernelspec": {
   "display_name": "Python 3 (ipykernel)",
   "language": "python",
   "name": "python3"
  },
  "language_info": {
   "codemirror_mode": {
    "name": "ipython",
    "version": 3
   },
   "file_extension": ".py",
   "mimetype": "text/x-python",
   "name": "python",
   "nbconvert_exporter": "python",
   "pygments_lexer": "ipython3",
   "version": "3.10.14"
  }
 },
 "nbformat": 4,
 "nbformat_minor": 4
}
