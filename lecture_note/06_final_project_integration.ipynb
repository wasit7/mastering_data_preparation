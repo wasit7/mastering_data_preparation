{
 "cells": [
  {
   "cell_type": "markdown",
   "metadata": {},
   "source": [
    "# Final Project: Pathumthani Platform Data Integration\n",
    "In this final project notebook, we will integrate all the concepts we've learned so far:\n",
    "- Data Cleaning\n",
    "- Real-Time Data Processing\n",
    "- Change Data Capture (CDC)\n",
    "- Data Validation and Quality Assurance\n",
    "\n",
    "The goal is to prepare and integrate data from different sectors (tourism, agriculture, and sports) to create a reliable and functional platform."
   ]
  },
  {
   "cell_type": "markdown",
   "metadata": {},
   "source": [
    "## Step 1: Loading and Cleaning Datasets\n",
    "We will load sample datasets from the tourism and agriculture sectors, clean the data, and ensure it is ready for integration."
   ]
  },
  {
   "cell_type": "code",
   "execution_count": 1,
   "metadata": {},
   "outputs": [
    {
     "data": {
      "text/html": [
       "<div>\n",
       "<style scoped>\n",
       "    .dataframe tbody tr th:only-of-type {\n",
       "        vertical-align: middle;\n",
       "    }\n",
       "\n",
       "    .dataframe tbody tr th {\n",
       "        vertical-align: top;\n",
       "    }\n",
       "\n",
       "    .dataframe thead th {\n",
       "        text-align: right;\n",
       "    }\n",
       "</style>\n",
       "<table border=\"1\" class=\"dataframe\">\n",
       "  <thead>\n",
       "    <tr style=\"text-align: right;\">\n",
       "      <th></th>\n",
       "      <th>Location</th>\n",
       "      <th>Visitors</th>\n",
       "      <th>Date</th>\n",
       "    </tr>\n",
       "  </thead>\n",
       "  <tbody>\n",
       "    <tr>\n",
       "      <th>0</th>\n",
       "      <td>Temple A</td>\n",
       "      <td>500.0</td>\n",
       "      <td>2023-09-15</td>\n",
       "    </tr>\n",
       "    <tr>\n",
       "      <th>1</th>\n",
       "      <td>Park B</td>\n",
       "      <td>NaN</td>\n",
       "      <td>2023-09-16</td>\n",
       "    </tr>\n",
       "    <tr>\n",
       "      <th>2</th>\n",
       "      <td>Beach C</td>\n",
       "      <td>850.0</td>\n",
       "      <td>2023-09-17</td>\n",
       "    </tr>\n",
       "  </tbody>\n",
       "</table>\n",
       "</div>"
      ],
      "text/plain": [
       "   Location  Visitors        Date\n",
       "0  Temple A     500.0  2023-09-15\n",
       "1    Park B       NaN  2023-09-16\n",
       "2   Beach C     850.0  2023-09-17"
      ]
     },
     "execution_count": 1,
     "metadata": {},
     "output_type": "execute_result"
    }
   ],
   "source": [
    "import pandas as pd\n",
    "\n",
    "# Sample datasets for tourism and agriculture\n",
    "tourism_data = {'Location': ['Temple A', 'Park B', 'Beach C'],\n",
    "                'Visitors': [500, None, 850],  # Missing value\n",
    "                'Date': ['2023-09-15', '2023-09-16', '2023-09-17']}\n",
    "\n",
    "agriculture_data = {'Crop': ['Rice', 'Corn', 'Mango'],\n",
    "                    'Yield': [1200, 1500, 850],\n",
    "                    'Harvest Date': ['2023-09-10', '2023-09-12', '2023-09-14']}\n",
    "\n",
    "# Create DataFrames\n",
    "df_tourism = pd.DataFrame(tourism_data)\n",
    "df_agriculture = pd.DataFrame(agriculture_data)\n",
    "\n",
    "# Display tourism dataset\n",
    "df_tourism"
   ]
  },
  {
   "cell_type": "code",
   "execution_count": 2,
   "metadata": {},
   "outputs": [
    {
     "data": {
      "text/html": [
       "<div>\n",
       "<style scoped>\n",
       "    .dataframe tbody tr th:only-of-type {\n",
       "        vertical-align: middle;\n",
       "    }\n",
       "\n",
       "    .dataframe tbody tr th {\n",
       "        vertical-align: top;\n",
       "    }\n",
       "\n",
       "    .dataframe thead th {\n",
       "        text-align: right;\n",
       "    }\n",
       "</style>\n",
       "<table border=\"1\" class=\"dataframe\">\n",
       "  <thead>\n",
       "    <tr style=\"text-align: right;\">\n",
       "      <th></th>\n",
       "      <th>Crop</th>\n",
       "      <th>Yield</th>\n",
       "      <th>Harvest Date</th>\n",
       "    </tr>\n",
       "  </thead>\n",
       "  <tbody>\n",
       "    <tr>\n",
       "      <th>0</th>\n",
       "      <td>Rice</td>\n",
       "      <td>1200</td>\n",
       "      <td>2023-09-10</td>\n",
       "    </tr>\n",
       "    <tr>\n",
       "      <th>1</th>\n",
       "      <td>Corn</td>\n",
       "      <td>1500</td>\n",
       "      <td>2023-09-12</td>\n",
       "    </tr>\n",
       "    <tr>\n",
       "      <th>2</th>\n",
       "      <td>Mango</td>\n",
       "      <td>850</td>\n",
       "      <td>2023-09-14</td>\n",
       "    </tr>\n",
       "  </tbody>\n",
       "</table>\n",
       "</div>"
      ],
      "text/plain": [
       "    Crop  Yield Harvest Date\n",
       "0   Rice   1200   2023-09-10\n",
       "1   Corn   1500   2023-09-12\n",
       "2  Mango    850   2023-09-14"
      ]
     },
     "execution_count": 2,
     "metadata": {},
     "output_type": "execute_result"
    }
   ],
   "source": [
    "# Display agriculture dataset\n",
    "df_agriculture"
   ]
  },
  {
   "cell_type": "markdown",
   "metadata": {},
   "source": [
    "## Step 2: Cleaning the Data\n",
    "Let's handle the missing values in the tourism dataset and standardize the date formats."
   ]
  },
  {
   "cell_type": "code",
   "execution_count": 3,
   "metadata": {},
   "outputs": [
    {
     "data": {
      "text/html": [
       "<div>\n",
       "<style scoped>\n",
       "    .dataframe tbody tr th:only-of-type {\n",
       "        vertical-align: middle;\n",
       "    }\n",
       "\n",
       "    .dataframe tbody tr th {\n",
       "        vertical-align: top;\n",
       "    }\n",
       "\n",
       "    .dataframe thead th {\n",
       "        text-align: right;\n",
       "    }\n",
       "</style>\n",
       "<table border=\"1\" class=\"dataframe\">\n",
       "  <thead>\n",
       "    <tr style=\"text-align: right;\">\n",
       "      <th></th>\n",
       "      <th>Location</th>\n",
       "      <th>Visitors</th>\n",
       "      <th>Date</th>\n",
       "    </tr>\n",
       "  </thead>\n",
       "  <tbody>\n",
       "    <tr>\n",
       "      <th>0</th>\n",
       "      <td>Temple A</td>\n",
       "      <td>500.0</td>\n",
       "      <td>2023-09-15</td>\n",
       "    </tr>\n",
       "    <tr>\n",
       "      <th>1</th>\n",
       "      <td>Park B</td>\n",
       "      <td>675.0</td>\n",
       "      <td>2023-09-16</td>\n",
       "    </tr>\n",
       "    <tr>\n",
       "      <th>2</th>\n",
       "      <td>Beach C</td>\n",
       "      <td>850.0</td>\n",
       "      <td>2023-09-17</td>\n",
       "    </tr>\n",
       "  </tbody>\n",
       "</table>\n",
       "</div>"
      ],
      "text/plain": [
       "   Location  Visitors       Date\n",
       "0  Temple A     500.0 2023-09-15\n",
       "1    Park B     675.0 2023-09-16\n",
       "2   Beach C     850.0 2023-09-17"
      ]
     },
     "execution_count": 3,
     "metadata": {},
     "output_type": "execute_result"
    }
   ],
   "source": [
    "# Fill missing values in 'Visitors' column with the average visitor count\n",
    "df_tourism['Visitors'].fillna(df_tourism['Visitors'].mean(), inplace=True)\n",
    "\n",
    "# Convert 'Date' and 'Harvest Date' columns to datetime format\n",
    "df_tourism['Date'] = pd.to_datetime(df_tourism['Date'])\n",
    "df_agriculture['Harvest Date'] = pd.to_datetime(df_agriculture['Harvest Date'])\n",
    "\n",
    "df_tourism"
   ]
  },
  {
   "cell_type": "markdown",
   "metadata": {},
   "source": [
    "## Step 3: Real-Time Data Processing\n",
    "For real-time data processing, let's simulate incoming data for tourism. We will process this data in real-time chunks."
   ]
  },
  {
   "cell_type": "code",
   "execution_count": 4,
   "metadata": {},
   "outputs": [
    {
     "data": {
      "text/html": [
       "<div>\n",
       "<style scoped>\n",
       "    .dataframe tbody tr th:only-of-type {\n",
       "        vertical-align: middle;\n",
       "    }\n",
       "\n",
       "    .dataframe tbody tr th {\n",
       "        vertical-align: top;\n",
       "    }\n",
       "\n",
       "    .dataframe thead th {\n",
       "        text-align: right;\n",
       "    }\n",
       "</style>\n",
       "<table border=\"1\" class=\"dataframe\">\n",
       "  <thead>\n",
       "    <tr style=\"text-align: right;\">\n",
       "      <th></th>\n",
       "      <th>Location</th>\n",
       "      <th>Visitors</th>\n",
       "      <th>Date</th>\n",
       "    </tr>\n",
       "  </thead>\n",
       "  <tbody>\n",
       "    <tr>\n",
       "      <th>0</th>\n",
       "      <td>Temple A</td>\n",
       "      <td>500.0</td>\n",
       "      <td>2023-09-15 00:00:00</td>\n",
       "    </tr>\n",
       "    <tr>\n",
       "      <th>1</th>\n",
       "      <td>Park B</td>\n",
       "      <td>675.0</td>\n",
       "      <td>2023-09-16 00:00:00</td>\n",
       "    </tr>\n",
       "    <tr>\n",
       "      <th>2</th>\n",
       "      <td>Beach C</td>\n",
       "      <td>850.0</td>\n",
       "      <td>2023-09-17 00:00:00</td>\n",
       "    </tr>\n",
       "    <tr>\n",
       "      <th>3</th>\n",
       "      <td>Temple A</td>\n",
       "      <td>520.0</td>\n",
       "      <td>2023-09-18</td>\n",
       "    </tr>\n",
       "    <tr>\n",
       "      <th>4</th>\n",
       "      <td>Park B</td>\n",
       "      <td>780.0</td>\n",
       "      <td>2023-09-18</td>\n",
       "    </tr>\n",
       "  </tbody>\n",
       "</table>\n",
       "</div>"
      ],
      "text/plain": [
       "   Location  Visitors                 Date\n",
       "0  Temple A     500.0  2023-09-15 00:00:00\n",
       "1    Park B     675.0  2023-09-16 00:00:00\n",
       "2   Beach C     850.0  2023-09-17 00:00:00\n",
       "3  Temple A     520.0           2023-09-18\n",
       "4    Park B     780.0           2023-09-18"
      ]
     },
     "execution_count": 4,
     "metadata": {},
     "output_type": "execute_result"
    }
   ],
   "source": [
    "# Simulating real-time incoming data\n",
    "real_time_tourism_data = pd.DataFrame({\n",
    "    'Location': ['Temple A', 'Park B'],\n",
    "    'Visitors': [520, 780],\n",
    "    'Date': ['2023-09-18', '2023-09-18']\n",
    "})\n",
    "\n",
    "# Process incoming data in real-time\n",
    "df_tourism = pd.concat([df_tourism, real_time_tourism_data], ignore_index=True)\n",
    "df_tourism"
   ]
  },
  {
   "cell_type": "markdown",
   "metadata": {},
   "source": [
    "## Step 4: Change Data Capture (CDC)\n",
    "We will track changes between the initial and updated agriculture datasets using CDC."
   ]
  },
  {
   "cell_type": "code",
   "execution_count": 5,
   "metadata": {},
   "outputs": [
    {
     "data": {
      "text/html": [
       "<div>\n",
       "<style scoped>\n",
       "    .dataframe tbody tr th:only-of-type {\n",
       "        vertical-align: middle;\n",
       "    }\n",
       "\n",
       "    .dataframe tbody tr th {\n",
       "        vertical-align: top;\n",
       "    }\n",
       "\n",
       "    .dataframe thead th {\n",
       "        text-align: right;\n",
       "    }\n",
       "</style>\n",
       "<table border=\"1\" class=\"dataframe\">\n",
       "  <thead>\n",
       "    <tr style=\"text-align: right;\">\n",
       "      <th></th>\n",
       "      <th>Crop</th>\n",
       "      <th>Yield_initial</th>\n",
       "      <th>Harvest Date_initial</th>\n",
       "      <th>Yield_updated</th>\n",
       "      <th>Harvest Date_updated</th>\n",
       "    </tr>\n",
       "  </thead>\n",
       "  <tbody>\n",
       "    <tr>\n",
       "      <th>0</th>\n",
       "      <td>Rice</td>\n",
       "      <td>1200</td>\n",
       "      <td>2023-09-10</td>\n",
       "      <td>1250</td>\n",
       "      <td>2023-09-10</td>\n",
       "    </tr>\n",
       "    <tr>\n",
       "      <th>1</th>\n",
       "      <td>Corn</td>\n",
       "      <td>1500</td>\n",
       "      <td>2023-09-12</td>\n",
       "      <td>1450</td>\n",
       "      <td>2023-09-12</td>\n",
       "    </tr>\n",
       "    <tr>\n",
       "      <th>2</th>\n",
       "      <td>Mango</td>\n",
       "      <td>850</td>\n",
       "      <td>2023-09-14</td>\n",
       "      <td>870</td>\n",
       "      <td>2023-09-14</td>\n",
       "    </tr>\n",
       "  </tbody>\n",
       "</table>\n",
       "</div>"
      ],
      "text/plain": [
       "    Crop  Yield_initial Harvest Date_initial  Yield_updated  \\\n",
       "0   Rice           1200           2023-09-10           1250   \n",
       "1   Corn           1500           2023-09-12           1450   \n",
       "2  Mango            850           2023-09-14            870   \n",
       "\n",
       "  Harvest Date_updated  \n",
       "0           2023-09-10  \n",
       "1           2023-09-12  \n",
       "2           2023-09-14  "
      ]
     },
     "execution_count": 5,
     "metadata": {},
     "output_type": "execute_result"
    }
   ],
   "source": [
    "# Updated agriculture dataset with changes\n",
    "agriculture_data_updated = {'Crop': ['Rice', 'Corn', 'Mango'],\n",
    "                           'Yield': [1250, 1450, 870],  # Updated values\n",
    "                           'Harvest Date': ['2023-09-10', '2023-09-12', '2023-09-14']}\n",
    "\n",
    "df_agriculture_updated = pd.DataFrame(agriculture_data_updated)\n",
    "\n",
    "# Detecting changes\n",
    "df_cdc = pd.merge(df_agriculture, df_agriculture_updated, on='Crop', suffixes=('_initial', '_updated'))\n",
    "df_cdc"
   ]
  },
  {
   "cell_type": "markdown",
   "metadata": {},
   "source": [
    "## Step 5: Data Validation and Quality Assurance\n",
    "We will apply validation rules to the integrated tourism and agriculture data to ensure quality."
   ]
  },
  {
   "cell_type": "code",
   "execution_count": 6,
   "metadata": {},
   "outputs": [
    {
     "name": "stdout",
     "output_type": "stream",
     "text": [
      "Invalid Visitors Data: Empty DataFrame\n",
      "Columns: [Location, Visitors, Date]\n",
      "Index: []\n",
      "Invalid Yield Data: Empty DataFrame\n",
      "Columns: [Crop, Yield, Harvest Date]\n",
      "Index: []\n"
     ]
    }
   ],
   "source": [
    "# Validation: Ensure that 'Visitors' in tourism data is always greater than zero\n",
    "invalid_visitors = df_tourism[df_tourism['Visitors'] <= 0]\n",
    "print('Invalid Visitors Data:', invalid_visitors)\n",
    "\n",
    "# Validation: Check if 'Yield' in agriculture data is within a realistic range\n",
    "invalid_yield = df_agriculture[(df_agriculture['Yield'] < 100) | (df_agriculture['Yield'] > 2000)]\n",
    "print('Invalid Yield Data:', invalid_yield)\n"
   ]
  },
  {
   "cell_type": "markdown",
   "metadata": {},
   "source": [
    "## Step 6: Final Integration and Reporting\n",
    "After cleaning, processing, and validating the data, we can now integrate the datasets and generate a report."
   ]
  },
  {
   "cell_type": "code",
   "execution_count": 7,
   "metadata": {},
   "outputs": [
    {
     "data": {
      "text/html": [
       "<div>\n",
       "<style scoped>\n",
       "    .dataframe tbody tr th:only-of-type {\n",
       "        vertical-align: middle;\n",
       "    }\n",
       "\n",
       "    .dataframe tbody tr th {\n",
       "        vertical-align: top;\n",
       "    }\n",
       "\n",
       "    .dataframe thead th {\n",
       "        text-align: right;\n",
       "    }\n",
       "</style>\n",
       "<table border=\"1\" class=\"dataframe\">\n",
       "  <thead>\n",
       "    <tr style=\"text-align: right;\">\n",
       "      <th></th>\n",
       "      <th>Location</th>\n",
       "      <th>Visitors</th>\n",
       "      <th>Date</th>\n",
       "      <th>Crop</th>\n",
       "      <th>Yield</th>\n",
       "      <th>Harvest Date</th>\n",
       "    </tr>\n",
       "  </thead>\n",
       "  <tbody>\n",
       "    <tr>\n",
       "      <th>0</th>\n",
       "      <td>Temple A</td>\n",
       "      <td>500.0</td>\n",
       "      <td>2023-09-15 00:00:00</td>\n",
       "      <td>Rice</td>\n",
       "      <td>1200.0</td>\n",
       "      <td>2023-09-10</td>\n",
       "    </tr>\n",
       "    <tr>\n",
       "      <th>1</th>\n",
       "      <td>Park B</td>\n",
       "      <td>675.0</td>\n",
       "      <td>2023-09-16 00:00:00</td>\n",
       "      <td>Corn</td>\n",
       "      <td>1500.0</td>\n",
       "      <td>2023-09-12</td>\n",
       "    </tr>\n",
       "    <tr>\n",
       "      <th>2</th>\n",
       "      <td>Beach C</td>\n",
       "      <td>850.0</td>\n",
       "      <td>2023-09-17 00:00:00</td>\n",
       "      <td>Mango</td>\n",
       "      <td>850.0</td>\n",
       "      <td>2023-09-14</td>\n",
       "    </tr>\n",
       "    <tr>\n",
       "      <th>3</th>\n",
       "      <td>Temple A</td>\n",
       "      <td>520.0</td>\n",
       "      <td>2023-09-18</td>\n",
       "      <td>NaN</td>\n",
       "      <td>NaN</td>\n",
       "      <td>NaT</td>\n",
       "    </tr>\n",
       "    <tr>\n",
       "      <th>4</th>\n",
       "      <td>Park B</td>\n",
       "      <td>780.0</td>\n",
       "      <td>2023-09-18</td>\n",
       "      <td>NaN</td>\n",
       "      <td>NaN</td>\n",
       "      <td>NaT</td>\n",
       "    </tr>\n",
       "  </tbody>\n",
       "</table>\n",
       "</div>"
      ],
      "text/plain": [
       "   Location  Visitors                 Date   Crop   Yield Harvest Date\n",
       "0  Temple A     500.0  2023-09-15 00:00:00   Rice  1200.0   2023-09-10\n",
       "1    Park B     675.0  2023-09-16 00:00:00   Corn  1500.0   2023-09-12\n",
       "2   Beach C     850.0  2023-09-17 00:00:00  Mango   850.0   2023-09-14\n",
       "3  Temple A     520.0           2023-09-18    NaN     NaN          NaT\n",
       "4    Park B     780.0           2023-09-18    NaN     NaN          NaT"
      ]
     },
     "execution_count": 7,
     "metadata": {},
     "output_type": "execute_result"
    }
   ],
   "source": [
    "# Integrating tourism and agriculture data into a single dataset\n",
    "df_integrated = pd.concat([df_tourism, df_agriculture], axis=1)\n",
    "df_integrated"
   ]
  },
  {
   "cell_type": "markdown",
   "metadata": {},
   "source": [
    "## Summary\n",
    "In this final project notebook, we have:\n",
    "- Cleaned and prepared datasets from multiple sectors.\n",
    "- Processed real-time data and simulated incoming streams.\n",
    "- Applied Change Data Capture (CDC) to track changes.\n",
    "- Validated data quality to ensure accurate results.\n",
    "- Integrated the datasets for the Pathumthani platform.\n",
    "\n",
    "This concludes the demo series on data cleaning, real-time processing, CDC, and validation."
   ]
  }
 ],
 "metadata": {
  "kernelspec": {
   "display_name": "Python 3 (ipykernel)",
   "language": "python",
   "name": "python3"
  },
  "language_info": {
   "codemirror_mode": {
    "name": "ipython",
    "version": 3
   },
   "file_extension": ".py",
   "mimetype": "text/x-python",
   "name": "python",
   "nbconvert_exporter": "python",
   "pygments_lexer": "ipython3",
   "version": "3.10.13"
  }
 },
 "nbformat": 4,
 "nbformat_minor": 4
}
