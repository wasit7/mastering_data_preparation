{
 "cells": [
  {
   "cell_type": "markdown",
   "metadata": {},
   "source": [
    "# Change Data Capture (CDC) with Pandas\n",
    "In this notebook, we will explore how to implement Change Data Capture (CDC) using `pandas`.\n",
    "CDC allows us to track and process only the changes in data, making data processing more efficient.\n",
    "\n",
    "We will simulate a dataset where changes occur over time and demonstrate how to capture and track those changes."
   ]
  },
  {
   "cell_type": "markdown",
   "metadata": {},
   "source": [
    "## Step 1: Simulating Initial Dataset\n",
    "Let's start by creating an initial dataset for a simple inventory system."
   ]
  },
  {
   "cell_type": "code",
   "execution_count": 1,
   "metadata": {},
   "outputs": [
    {
     "data": {
      "text/html": [
       "<div>\n",
       "<style scoped>\n",
       "    .dataframe tbody tr th:only-of-type {\n",
       "        vertical-align: middle;\n",
       "    }\n",
       "\n",
       "    .dataframe tbody tr th {\n",
       "        vertical-align: top;\n",
       "    }\n",
       "\n",
       "    .dataframe thead th {\n",
       "        text-align: right;\n",
       "    }\n",
       "</style>\n",
       "<table border=\"1\" class=\"dataframe\">\n",
       "  <thead>\n",
       "    <tr style=\"text-align: right;\">\n",
       "      <th></th>\n",
       "      <th>Item</th>\n",
       "      <th>Stock</th>\n",
       "      <th>Price</th>\n",
       "    </tr>\n",
       "  </thead>\n",
       "  <tbody>\n",
       "    <tr>\n",
       "      <th>0</th>\n",
       "      <td>Apple</td>\n",
       "      <td>100</td>\n",
       "      <td>1.2</td>\n",
       "    </tr>\n",
       "    <tr>\n",
       "      <th>1</th>\n",
       "      <td>Banana</td>\n",
       "      <td>150</td>\n",
       "      <td>0.5</td>\n",
       "    </tr>\n",
       "    <tr>\n",
       "      <th>2</th>\n",
       "      <td>Orange</td>\n",
       "      <td>80</td>\n",
       "      <td>0.8</td>\n",
       "    </tr>\n",
       "    <tr>\n",
       "      <th>3</th>\n",
       "      <td>Mango</td>\n",
       "      <td>200</td>\n",
       "      <td>1.5</td>\n",
       "    </tr>\n",
       "  </tbody>\n",
       "</table>\n",
       "</div>"
      ],
      "text/plain": [
       "     Item  Stock  Price\n",
       "0   Apple    100    1.2\n",
       "1  Banana    150    0.5\n",
       "2  Orange     80    0.8\n",
       "3   Mango    200    1.5"
      ]
     },
     "execution_count": 1,
     "metadata": {},
     "output_type": "execute_result"
    }
   ],
   "source": [
    "import pandas as pd\n",
    "\n",
    "# Initial dataset\n",
    "data_initial = {'Item': ['Apple', 'Banana', 'Orange', 'Mango'],\n",
    "                'Stock': [100, 150, 80, 200],\n",
    "                'Price': [1.2, 0.5, 0.8, 1.5]}\n",
    "\n",
    "df_initial = pd.DataFrame(data_initial)\n",
    "df_initial"
   ]
  },
  {
   "cell_type": "markdown",
   "metadata": {},
   "source": [
    "## Step 2: Capturing Changes\n",
    "Let's assume that over time, the stock values of these items change and new items are added to the inventory.\n",
    "We will create a new dataset to reflect these changes and demonstrate how to capture them."
   ]
  },
  {
   "cell_type": "code",
   "execution_count": 2,
   "metadata": {},
   "outputs": [
    {
     "data": {
      "text/html": [
       "<div>\n",
       "<style scoped>\n",
       "    .dataframe tbody tr th:only-of-type {\n",
       "        vertical-align: middle;\n",
       "    }\n",
       "\n",
       "    .dataframe tbody tr th {\n",
       "        vertical-align: top;\n",
       "    }\n",
       "\n",
       "    .dataframe thead th {\n",
       "        text-align: right;\n",
       "    }\n",
       "</style>\n",
       "<table border=\"1\" class=\"dataframe\">\n",
       "  <thead>\n",
       "    <tr style=\"text-align: right;\">\n",
       "      <th></th>\n",
       "      <th>Item</th>\n",
       "      <th>Stock</th>\n",
       "      <th>Price</th>\n",
       "    </tr>\n",
       "  </thead>\n",
       "  <tbody>\n",
       "    <tr>\n",
       "      <th>0</th>\n",
       "      <td>Apple</td>\n",
       "      <td>90</td>\n",
       "      <td>1.20</td>\n",
       "    </tr>\n",
       "    <tr>\n",
       "      <th>1</th>\n",
       "      <td>Banana</td>\n",
       "      <td>160</td>\n",
       "      <td>0.50</td>\n",
       "    </tr>\n",
       "    <tr>\n",
       "      <th>2</th>\n",
       "      <td>Orange</td>\n",
       "      <td>75</td>\n",
       "      <td>0.85</td>\n",
       "    </tr>\n",
       "    <tr>\n",
       "      <th>3</th>\n",
       "      <td>Mango</td>\n",
       "      <td>200</td>\n",
       "      <td>1.50</td>\n",
       "    </tr>\n",
       "    <tr>\n",
       "      <th>4</th>\n",
       "      <td>Grapes</td>\n",
       "      <td>50</td>\n",
       "      <td>2.00</td>\n",
       "    </tr>\n",
       "  </tbody>\n",
       "</table>\n",
       "</div>"
      ],
      "text/plain": [
       "     Item  Stock  Price\n",
       "0   Apple     90   1.20\n",
       "1  Banana    160   0.50\n",
       "2  Orange     75   0.85\n",
       "3   Mango    200   1.50\n",
       "4  Grapes     50   2.00"
      ]
     },
     "execution_count": 2,
     "metadata": {},
     "output_type": "execute_result"
    }
   ],
   "source": [
    "# Updated dataset\n",
    "data_updated = {'Item': ['Apple', 'Banana', 'Orange', 'Mango', 'Grapes'],\n",
    "                'Stock': [90, 160, 75, 200, 50],\n",
    "                'Price': [1.2, 0.5, 0.85, 1.5, 2.0]}\n",
    "\n",
    "df_updated = pd.DataFrame(data_updated)\n",
    "df_updated"
   ]
  },
  {
   "cell_type": "markdown",
   "metadata": {},
   "source": [
    "## Step 3: Detecting Changes with CDC\n",
    "To detect changes between the two datasets, we can compare the initial and updated datasets.\n",
    "We'll use the `merge()` function to track added, removed, and updated records."
   ]
  },
  {
   "cell_type": "code",
   "execution_count": 3,
   "metadata": {},
   "outputs": [
    {
     "data": {
      "text/html": [
       "<div>\n",
       "<style scoped>\n",
       "    .dataframe tbody tr th:only-of-type {\n",
       "        vertical-align: middle;\n",
       "    }\n",
       "\n",
       "    .dataframe tbody tr th {\n",
       "        vertical-align: top;\n",
       "    }\n",
       "\n",
       "    .dataframe thead th {\n",
       "        text-align: right;\n",
       "    }\n",
       "</style>\n",
       "<table border=\"1\" class=\"dataframe\">\n",
       "  <thead>\n",
       "    <tr style=\"text-align: right;\">\n",
       "      <th></th>\n",
       "      <th>Item</th>\n",
       "      <th>Stock_initial</th>\n",
       "      <th>Price_initial</th>\n",
       "      <th>Stock_updated</th>\n",
       "      <th>Price_updated</th>\n",
       "      <th>_merge</th>\n",
       "    </tr>\n",
       "  </thead>\n",
       "  <tbody>\n",
       "    <tr>\n",
       "      <th>0</th>\n",
       "      <td>Apple</td>\n",
       "      <td>100.0</td>\n",
       "      <td>1.2</td>\n",
       "      <td>90</td>\n",
       "      <td>1.20</td>\n",
       "      <td>both</td>\n",
       "    </tr>\n",
       "    <tr>\n",
       "      <th>1</th>\n",
       "      <td>Banana</td>\n",
       "      <td>150.0</td>\n",
       "      <td>0.5</td>\n",
       "      <td>160</td>\n",
       "      <td>0.50</td>\n",
       "      <td>both</td>\n",
       "    </tr>\n",
       "    <tr>\n",
       "      <th>2</th>\n",
       "      <td>Orange</td>\n",
       "      <td>80.0</td>\n",
       "      <td>0.8</td>\n",
       "      <td>75</td>\n",
       "      <td>0.85</td>\n",
       "      <td>both</td>\n",
       "    </tr>\n",
       "    <tr>\n",
       "      <th>3</th>\n",
       "      <td>Mango</td>\n",
       "      <td>200.0</td>\n",
       "      <td>1.5</td>\n",
       "      <td>200</td>\n",
       "      <td>1.50</td>\n",
       "      <td>both</td>\n",
       "    </tr>\n",
       "    <tr>\n",
       "      <th>4</th>\n",
       "      <td>Grapes</td>\n",
       "      <td>NaN</td>\n",
       "      <td>NaN</td>\n",
       "      <td>50</td>\n",
       "      <td>2.00</td>\n",
       "      <td>right_only</td>\n",
       "    </tr>\n",
       "  </tbody>\n",
       "</table>\n",
       "</div>"
      ],
      "text/plain": [
       "     Item  Stock_initial  Price_initial  Stock_updated  Price_updated  \\\n",
       "0   Apple          100.0            1.2             90           1.20   \n",
       "1  Banana          150.0            0.5            160           0.50   \n",
       "2  Orange           80.0            0.8             75           0.85   \n",
       "3   Mango          200.0            1.5            200           1.50   \n",
       "4  Grapes            NaN            NaN             50           2.00   \n",
       "\n",
       "       _merge  \n",
       "0        both  \n",
       "1        both  \n",
       "2        both  \n",
       "3        both  \n",
       "4  right_only  "
      ]
     },
     "execution_count": 3,
     "metadata": {},
     "output_type": "execute_result"
    }
   ],
   "source": [
    "# Merging datasets to detect changes\n",
    "df_changes = pd.merge(df_initial, df_updated, on='Item', how='outer', suffixes=('_initial', '_updated'), indicator=True)\n",
    "df_changes"
   ]
  },
  {
   "cell_type": "markdown",
   "metadata": {},
   "source": [
    "## Step 4: Categorizing Changes\n",
    "Now that we have detected changes, we can categorize them as follows:\n",
    "- **Added**: Items that are present in the updated dataset but not in the initial dataset.\n",
    "- **Removed**: Items that were in the initial dataset but are not in the updated dataset.\n",
    "- **Updated**: Items where values have changed between the two datasets."
   ]
  },
  {
   "cell_type": "code",
   "execution_count": 4,
   "metadata": {},
   "outputs": [
    {
     "name": "stdout",
     "output_type": "stream",
     "text": [
      "Added Items:\n",
      "     Item  Stock_updated  Price_updated\n",
      "4  Grapes             50            2.0\n",
      "Removed Items:\n",
      "Empty DataFrame\n",
      "Columns: [Item, Stock_initial, Price_initial]\n",
      "Index: []\n",
      "Updated Items:\n",
      "     Item  Stock_initial  Stock_updated\n",
      "0   Apple          100.0             90\n",
      "1  Banana          150.0            160\n",
      "2  Orange           80.0             75\n"
     ]
    }
   ],
   "source": [
    "# Categorizing changes\n",
    "added_items = df_changes[df_changes['_merge'] == 'right_only']\n",
    "removed_items = df_changes[df_changes['_merge'] == 'left_only']\n",
    "updated_items = df_changes[(df_changes['_merge'] == 'both') & (df_changes['Stock_initial'] != df_changes['Stock_updated'])]\n",
    "\n",
    "print('Added Items:')\n",
    "print(added_items[['Item', 'Stock_updated', 'Price_updated']])\n",
    "\n",
    "print('Removed Items:')\n",
    "print(removed_items[['Item', 'Stock_initial', 'Price_initial']])\n",
    "\n",
    "print('Updated Items:')\n",
    "print(updated_items[['Item', 'Stock_initial', 'Stock_updated']])\n"
   ]
  },
  {
   "cell_type": "markdown",
   "metadata": {},
   "source": [
    "## Step 5: Logging Changes for Future Analysis\n",
    "We can log the changes detected by CDC for future analysis or auditing.\n",
    "This can help track inventory adjustments and price changes over time."
   ]
  },
  {
   "cell_type": "code",
   "execution_count": 5,
   "metadata": {},
   "outputs": [
    {
     "name": "stdout",
     "output_type": "stream",
     "text": [
      "Logs saved successfully.\n"
     ]
    }
   ],
   "source": [
    "# Creating logs of changes\n",
    "log_added = added_items[['Item', 'Stock_updated', 'Price_updated']].copy()\n",
    "log_removed = removed_items[['Item', 'Stock_initial', 'Price_initial']].copy()\n",
    "log_updated = updated_items[['Item', 'Stock_initial', 'Stock_updated']].copy()\n",
    "\n",
    "# Save logs to CSV\n",
    "log_added.to_csv('log_added.csv', index=False)\n",
    "log_removed.to_csv('log_removed.csv', index=False)\n",
    "log_updated.to_csv('log_updated.csv', index=False)\n",
    "\n",
    "print('Logs saved successfully.')"
   ]
  },
  {
   "cell_type": "markdown",
   "metadata": {},
   "source": [
    "## Summary\n",
    "In this notebook, we have demonstrated how to:\n",
    "- Simulate changes in a dataset.\n",
    "- Detect changes using Change Data Capture (CDC) techniques.\n",
    "- Categorize the changes as added, removed, or updated records.\n",
    "- Log the changes for future analysis.\n",
    "\n",
    "Next, we will explore data validation and quality assurance in the following notebook."
   ]
  }
 ],
 "metadata": {
  "kernelspec": {
   "display_name": "Python 3 (ipykernel)",
   "language": "python",
   "name": "python3"
  },
  "language_info": {
   "codemirror_mode": {
    "name": "ipython",
    "version": 3
   },
   "file_extension": ".py",
   "mimetype": "text/x-python",
   "name": "python",
   "nbconvert_exporter": "python",
   "pygments_lexer": "ipython3",
   "version": "3.10.13"
  }
 },
 "nbformat": 4,
 "nbformat_minor": 4
}
