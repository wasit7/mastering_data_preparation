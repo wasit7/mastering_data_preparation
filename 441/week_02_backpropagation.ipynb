{
 "cells": [
  {
   "cell_type": "markdown",
   "id": "a1ae4048",
   "metadata": {},
   "source": [
    "\n",
    "# Week 2: Error Backpropagation in Neural Networks\n",
    "## Objective:\n",
    "In this notebook, we will explore the concept of backpropagation, a key algorithm used to train neural networks. We will cover activation functions, loss functions, and how the chain rule is used to compute gradients in multi-layer networks.\n"
   ]
  },
  {
   "cell_type": "markdown",
   "id": "db7afa5e",
   "metadata": {},
   "source": [
    "\n",
    "## 2.1 Theory: What is Backpropagation?\n",
    "Backpropagation is a supervised learning algorithm used for training artificial neural networks. It computes the gradient of the loss function with respect to each weight by applying the chain rule, enabling the network to learn from errors and adjust its weights accordingly.\n",
    "\n",
    "### Key Concepts:\n",
    "- **Activation Functions**: Functions that introduce non-linearity to the network. Common examples include the sigmoid, ReLU, and tanh functions.\n",
    "- **Loss Function**: Measures the error between the predicted output and the actual output. Common loss functions include Mean Squared Error (MSE) and Cross-Entropy.\n",
    "- **Chain Rule**: A calculus rule used to compute the derivative of composite functions, crucial for backpropagation.\n"
   ]
  },
  {
   "cell_type": "code",
   "execution_count": 4,
   "id": "6bc7b7ed",
   "metadata": {},
   "outputs": [
    {
     "data": {
      "image/png": "[encoded data removed]",
      "text/plain": [
       "<Figure size 640x480 with 1 Axes>"
      ]
     },
     "metadata": {},
     "output_type": "display_data"
    }
   ],
   "source": [
    "\n",
    "import numpy as np\n",
    "import matplotlib.pyplot as plt\n",
    "\n",
    "# Sigmoid activation function\n",
    "def sigmoid(x):\n",
    "    return 1 / (1 + np.exp(-x))\n",
    "\n",
    "# ReLU activation function\n",
    "def relu(x):\n",
    "    return np.maximum(0, x)\n",
    "\n",
    "# Plotting activation functions\n",
    "x = np.linspace(-10, 10, 100)\n",
    "plt.plot(x, sigmoid(x), label='Sigmoid')\n",
    "plt.plot(x, relu(x), label='ReLU')\n",
    "plt.title(\"Activation Functions\")\n",
    "plt.legend()\n",
    "plt.show()\n"
   ]
  },
  {
   "cell_type": "markdown",
   "id": "bedabf54",
   "metadata": {},
   "source": [
    "\n",
    "## 2.2 Coding: Implementing Backpropagation\n",
    "\n",
    "We will implement backpropagation for a simple multi-layer perceptron (MLP) using NumPy. The network will use the sigmoid activation function and mean squared error as the loss function.\n",
    "\n",
    "### Backpropagation Algorithm:\n",
    "1. Perform a forward pass to calculate the output.\n",
    "2. Compute the loss function based on the predicted and actual outputs.\n",
    "3. Apply the chain rule to compute the gradient of the loss with respect to the weights.\n",
    "4. Update the weights using gradient descent.\n"
   ]
  },
  {
   "cell_type": "code",
   "execution_count": 5,
   "id": "78f1f51e",
   "metadata": {},
   "outputs": [
    {
     "name": "stdout",
     "output_type": "stream",
     "text": [
      "Input: [0 0], Predicted Output: [[0.04842466]]\n",
      "Input: [0 1], Predicted Output: [[0.49970135]]\n",
      "Input: [1 0], Predicted Output: [[0.94321206]]\n",
      "Input: [1 1], Predicted Output: [[0.50641255]]\n"
     ]
    }
   ],
   "source": [
    "\n",
    "# Backpropagation implementation for a simple MLP\n",
    "\n",
    "class MLP:\n",
    "    def __init__(self, input_size, hidden_size, output_size, lr=0.1):\n",
    "        self.lr = lr\n",
    "        # Initialize weights\n",
    "        self.weights_input_hidden = np.random.randn(input_size, hidden_size)\n",
    "        self.weights_hidden_output = np.random.randn(hidden_size, output_size)\n",
    "        self.bias_hidden = np.zeros((1, hidden_size))\n",
    "        self.bias_output = np.zeros((1, output_size))\n",
    "\n",
    "    def sigmoid(self, x):\n",
    "        return 1 / (1 + np.exp(-x))\n",
    "\n",
    "    def sigmoid_derivative(self, x):\n",
    "        return x * (1 - x)\n",
    "\n",
    "    def forward(self, X):\n",
    "        self.hidden = self.sigmoid(np.dot(X, self.weights_input_hidden) + self.bias_hidden)\n",
    "        self.output = self.sigmoid(np.dot(self.hidden, self.weights_hidden_output) + self.bias_output)\n",
    "        return self.output\n",
    "\n",
    "    def backward(self, X, y):\n",
    "        # Compute loss gradient\n",
    "        output_error = y - self.output\n",
    "        output_delta = output_error * self.sigmoid_derivative(self.output)\n",
    "\n",
    "        # Hidden layer error\n",
    "        hidden_error = output_delta.dot(self.weights_hidden_output.T)\n",
    "        hidden_delta = hidden_error * self.sigmoid_derivative(self.hidden)\n",
    "\n",
    "        # Update weights\n",
    "        self.weights_hidden_output += self.hidden.T.dot(output_delta) * self.lr\n",
    "        self.weights_input_hidden += X.T.dot(hidden_delta) * self.lr\n",
    "\n",
    "        # Update biases\n",
    "        self.bias_output += np.sum(output_delta, axis=0, keepdims=True) * self.lr\n",
    "        self.bias_hidden += np.sum(hidden_delta, axis=0, keepdims=True) * self.lr\n",
    "\n",
    "    def train(self, X, y, epochs=10000):\n",
    "        for _ in range(epochs):\n",
    "            self.forward(X)\n",
    "            self.backward(X, y)\n",
    "\n",
    "# XOR data\n",
    "X = np.array([[0, 0], [0, 1], [1, 0], [1, 1]])\n",
    "y = np.array([[0], [1], [1], [0]])  # XOR output\n",
    "\n",
    "# Initialize and train MLP\n",
    "mlp = MLP(input_size=2, hidden_size=2, output_size=1, lr=0.1)\n",
    "mlp.train(X, y)\n",
    "\n",
    "# Test the network\n",
    "for inputs in X:\n",
    "    print(f\"Input: {inputs}, Predicted Output: {mlp.forward(inputs)}\")\n"
   ]
  },
  {
   "cell_type": "markdown",
   "id": "a3dc5e43",
   "metadata": {},
   "source": [
    "\n",
    "## 2.3 Exercises:\n",
    "- Modify the network to use ReLU instead of the sigmoid activation function and observe how the output changes.\n",
    "- Train the MLP on a different dataset, such as AND or OR logic gates, and compare the performance.\n",
    "- Implement Cross-Entropy loss instead of Mean Squared Error and see how it affects learning.\n"
   ]
  },
  {
   "cell_type": "code",
   "execution_count": null,
   "id": "0cbc1dca-38d5-4ef8-b9c5-5cfee1918dce",
   "metadata": {},
   "outputs": [],
   "source": []
  }
 ],
 "metadata": {
  "kernelspec": {
   "display_name": "Python 3 (ipykernel)",
   "language": "python",
   "name": "python3"
  },
  "language_info": {
   "codemirror_mode": {
    "name": "ipython",
    "version": 3
   },
   "file_extension": ".py",
   "mimetype": "text/x-python",
   "name": "python",
   "nbconvert_exporter": "python",
   "pygments_lexer": "ipython3",
   "version": "3.10.14"
  }
 },
 "nbformat": 4,
 "nbformat_minor": 5
}
