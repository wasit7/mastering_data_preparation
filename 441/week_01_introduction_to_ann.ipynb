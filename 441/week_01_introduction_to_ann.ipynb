{
 "cells": [
  {
   "cell_type": "markdown",
   "id": "0ff5c24e",
   "metadata": {},
   "source": [
    "\n",
    "# Week 1: Introduction to Artificial Neural Networks (ANNs)\n",
    "## Objective:\n",
    "In this notebook, we will explore the basics of artificial neural networks (ANNs) and learn about key concepts like vectors, matrices, tensors, weights, and biases. By the end of this notebook, you will be able to implement a basic single-layer perceptron using Python and NumPy.\n"
   ]
  },
  {
   "cell_type": "markdown",
   "id": "b32f9c19",
   "metadata": {},
   "source": [
    "\n",
    "## 1.1 Theory: What are Artificial Neural Networks (ANNs)?\n",
    "An artificial neural network is inspired by the biological neural networks in the human brain. It consists of neurons (nodes), weights, and biases. The basic idea of an ANN is to take input data, perform computations using weights and biases, and output the results. ANNs are primarily used for tasks such as classification, regression, and pattern recognition.\n",
    "\n",
    "### Key Concepts:\n",
    "- **Vectors**: A collection of numbers arranged in a specific order.\n",
    "- **Matrices**: A 2D array of numbers, used for representing input data or weights in a neural network.\n",
    "- **Tensors**: A generalization of vectors and matrices to higher dimensions.\n",
    "- **Weights**: Parameters that control the importance of input features.\n",
    "- **Biases**: Values added to the input to shift the activation function.\n"
   ]
  },
  {
   "cell_type": "code",
   "execution_count": 1,
   "id": "4926510d",
   "metadata": {},
   "outputs": [
    {
     "name": "stdout",
     "output_type": "stream",
     "text": [
      "Vector: [1 2 3]\n"
     ]
    }
   ],
   "source": [
    "\n",
    "import numpy as np\n",
    "\n",
    "# Vector example\n",
    "vector = np.array([1, 2, 3])\n",
    "print(\"Vector:\", vector)\n"
   ]
  },
  {
   "cell_type": "code",
   "execution_count": 2,
   "id": "8de485e6",
   "metadata": {},
   "outputs": [
    {
     "name": "stdout",
     "output_type": "stream",
     "text": [
      "Matrix:\n",
      " [[1 2 3]\n",
      " [4 5 6]]\n"
     ]
    }
   ],
   "source": [
    "\n",
    "# Matrix example\n",
    "matrix = np.array([[1, 2, 3], [4, 5, 6]])\n",
    "print(\"Matrix:\\n\", matrix)\n"
   ]
  },
  {
   "cell_type": "code",
   "execution_count": 3,
   "id": "47d94b47",
   "metadata": {},
   "outputs": [
    {
     "name": "stdout",
     "output_type": "stream",
     "text": [
      "Tensor:\n",
      " [[[1 2]\n",
      "  [3 4]]\n",
      "\n",
      " [[5 6]\n",
      "  [7 8]]]\n"
     ]
    }
   ],
   "source": [
    "\n",
    "# Tensor example\n",
    "tensor = np.array([[[1, 2], [3, 4]], [[5, 6], [7, 8]]])\n",
    "print(\"Tensor:\\n\", tensor)\n"
   ]
  },
  {
   "cell_type": "markdown",
   "id": "04b87a6a",
   "metadata": {},
   "source": [
    "\n",
    "## 1.2 Coding: Implementing a Simple ANN\n",
    "\n",
    "Let's implement a basic **single-layer perceptron** using Python and NumPy. The perceptron is the simplest type of neural network and is used for binary classification tasks.\n",
    "\n",
    "The perceptron computes the weighted sum of the inputs and applies an activation function (like step function or sigmoid) to decide the output.\n",
    "\n",
    "### Perceptron Model:\n",
    "\n",
    "$$ y = f(\\sum(w_i x_i) + b) $$\n",
    "\n",
    "Where:\n",
    "- \\( w_i \\) are the weights,\n",
    "- \\( x_i \\) are the input features,\n",
    "- \\( b \\) is the bias,\n",
    "- \\( f \\) is the activation function (e.g., step function or sigmoid).\n"
   ]
  },
  {
   "cell_type": "code",
   "execution_count": 4,
   "id": "a40b38c1",
   "metadata": {},
   "outputs": [
    {
     "name": "stdout",
     "output_type": "stream",
     "text": [
      "Input: [0 0], Predicted Output: 0\n",
      "Input: [0 1], Predicted Output: 0\n",
      "Input: [1 0], Predicted Output: 0\n",
      "Input: [1 1], Predicted Output: 1\n"
     ]
    }
   ],
   "source": [
    "\n",
    "# Perceptron implementation using step function as activation\n",
    "\n",
    "def step_function(x):\n",
    "    return 1 if x >= 0 else 0\n",
    "\n",
    "class Perceptron:\n",
    "    def __init__(self, input_size, lr=0.1):\n",
    "        self.weights = np.zeros(input_size)\n",
    "        self.bias = 0\n",
    "        self.lr = lr\n",
    "\n",
    "    def predict(self, inputs):\n",
    "        linear_output = np.dot(inputs, self.weights) + self.bias\n",
    "        return step_function(linear_output)\n",
    "\n",
    "    def train(self, X, y, epochs=10):\n",
    "        for _ in range(epochs):\n",
    "            for inputs, label in zip(X, y):\n",
    "                prediction = self.predict(inputs)\n",
    "                self.weights += self.lr * (label - prediction) * inputs\n",
    "                self.bias += self.lr * (label - prediction)\n",
    "\n",
    "# XOR data for training\n",
    "X = np.array([[0, 0], [0, 1], [1, 0], [1, 1]])\n",
    "y = np.array([0, 0, 0, 1])  # AND gate\n",
    "\n",
    "# Training perceptron\n",
    "perceptron = Perceptron(input_size=2)\n",
    "perceptron.train(X, y)\n",
    "\n",
    "# Testing perceptron\n",
    "for inputs in X:\n",
    "    print(f\"Input: {inputs}, Predicted Output: {perceptron.predict(inputs)}\")\n"
   ]
  },
  {
   "cell_type": "markdown",
   "id": "cfb4f183",
   "metadata": {},
   "source": [
    "\n",
    "## 1.3 Exercises:\n",
    "- Modify the perceptron code to implement an OR gate instead of an AND gate.\n",
    "- Use a different activation function, such as the sigmoid function, and observe the difference in output.\n",
    "- Train the perceptron on a dataset with more than two inputs.\n"
   ]
  },
  {
   "cell_type": "code",
   "execution_count": null,
   "id": "0907b3cb-fc7a-4d95-b677-b98be228876f",
   "metadata": {},
   "outputs": [],
   "source": []
  }
 ],
 "metadata": {
  "kernelspec": {
   "display_name": "Python 3 (ipykernel)",
   "language": "python",
   "name": "python3"
  },
  "language_info": {
   "codemirror_mode": {
    "name": "ipython",
    "version": 3
   },
   "file_extension": ".py",
   "mimetype": "text/x-python",
   "name": "python",
   "nbconvert_exporter": "python",
   "pygments_lexer": "ipython3",
   "version": "3.10.14"
  }
 },
 "nbformat": 4,
 "nbformat_minor": 5
}
