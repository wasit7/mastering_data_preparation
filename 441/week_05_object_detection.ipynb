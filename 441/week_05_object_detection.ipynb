{
 "cells": [
  {
   "cell_type": "markdown",
   "id": "9923a7cb",
   "metadata": {},
   "source": [
    "\n",
    "# Week 5: Object Detection\n",
    "## Objective:\n",
    "In this notebook, we will explore the basics of object detection, including key concepts such as Intersection over Union (IoU), precision-recall curves, and modern object detection models like YOLO. We will implement an object detection model and evaluate its performance on a sample dataset.\n"
   ]
  },
  {
   "cell_type": "markdown",
   "id": "f15bd215",
   "metadata": {},
   "source": [
    "\n",
    "## 5.1 Theory: Introduction to Object Detection\n",
    "Object detection is the task of detecting objects within an image and classifying them. Unlike image classification, object detection involves both identifying the object and localizing it within the image by drawing bounding boxes around detected objects.\n",
    "\n",
    "### Key Metrics:\n",
    "- **Intersection over Union (IoU)**: A metric used to evaluate the overlap between the predicted bounding box and the ground truth bounding box.\n",
    "- **Precision-Recall Curve**: A tool used to evaluate the trade-off between precision and recall in object detection, especially when dealing with imbalanced data.\n",
    "\n",
    "### Popular Object Detection Models:\n",
    "- **YOLO (You Only Look Once)**: A real-time object detection model that processes the entire image in one pass, making it faster than traditional methods.\n",
    "- **SSD (Single Shot Multibox Detector)**: A fast object detection model that eliminates region proposal stages and predicts bounding boxes directly.\n"
   ]
  },
  {
   "cell_type": "code",
   "execution_count": 6,
   "id": "3085a174-76f3-447d-9ee6-be4853219250",
   "metadata": {},
   "outputs": [
    {
     "name": "stdout",
     "output_type": "stream",
     "text": [
      "Requirement already satisfied: opencv-python in /home/wasit/miniconda3/envs/mastering_data_preparation/lib/python3.10/site-packages (4.10.0.84)\n",
      "Requirement already satisfied: numpy>=1.21.2 in /home/wasit/miniconda3/envs/mastering_data_preparation/lib/python3.10/site-packages (from opencv-python) (1.26.4)\n",
      "Note: you may need to restart the kernel to use updated packages.\n"
     ]
    }
   ],
   "source": [
    "pip install opencv-python"
   ]
  },
  {
   "cell_type": "code",
   "execution_count": 7,
   "id": "ce1eb5ca",
   "metadata": {},
   "outputs": [
    {
     "ename": "error",
     "evalue": "OpenCV(4.10.0) /io/opencv/modules/dnn/src/darknet/darknet_importer.cpp:210: error: (-212:Parsing error) Failed to open NetParameter file: yolov3.cfg in function 'readNetFromDarknet'\n",
     "output_type": "error",
     "traceback": [
      "\u001b[0;31m---------------------------------------------------------------------------\u001b[0m",
      "\u001b[0;31merror\u001b[0m                                     Traceback (most recent call last)",
      "Cell \u001b[0;32mIn[7], line 5\u001b[0m\n\u001b[1;32m      2\u001b[0m \u001b[38;5;28;01mimport\u001b[39;00m \u001b[38;5;21;01mnumpy\u001b[39;00m \u001b[38;5;28;01mas\u001b[39;00m \u001b[38;5;21;01mnp\u001b[39;00m\n\u001b[1;32m      4\u001b[0m \u001b[38;5;66;03m# Load YOLOv3 pre-trained weights and config\u001b[39;00m\n\u001b[0;32m----> 5\u001b[0m net \u001b[38;5;241m=\u001b[39m \u001b[43mcv2\u001b[49m\u001b[38;5;241;43m.\u001b[39;49m\u001b[43mdnn\u001b[49m\u001b[38;5;241;43m.\u001b[39;49m\u001b[43mreadNet\u001b[49m\u001b[43m(\u001b[49m\u001b[38;5;124;43m\"\u001b[39;49m\u001b[38;5;124;43myolov3.weights\u001b[39;49m\u001b[38;5;124;43m\"\u001b[39;49m\u001b[43m,\u001b[49m\u001b[43m \u001b[49m\u001b[38;5;124;43m\"\u001b[39;49m\u001b[38;5;124;43myolov3.cfg\u001b[39;49m\u001b[38;5;124;43m\"\u001b[39;49m\u001b[43m)\u001b[49m\n\u001b[1;32m      6\u001b[0m layer_names \u001b[38;5;241m=\u001b[39m net\u001b[38;5;241m.\u001b[39mgetLayerNames()\n\u001b[1;32m      7\u001b[0m output_layers \u001b[38;5;241m=\u001b[39m [layer_names[i[\u001b[38;5;241m0\u001b[39m] \u001b[38;5;241m-\u001b[39m \u001b[38;5;241m1\u001b[39m] \u001b[38;5;28;01mfor\u001b[39;00m i \u001b[38;5;129;01min\u001b[39;00m net\u001b[38;5;241m.\u001b[39mgetUnconnectedOutLayers()]\n",
      "\u001b[0;31merror\u001b[0m: OpenCV(4.10.0) /io/opencv/modules/dnn/src/darknet/darknet_importer.cpp:210: error: (-212:Parsing error) Failed to open NetParameter file: yolov3.cfg in function 'readNetFromDarknet'\n"
     ]
    }
   ],
   "source": [
    "\n",
    "import cv2\n",
    "import numpy as np\n",
    "\n",
    "# Load YOLOv3 pre-trained weights and config\n",
    "net = cv2.dnn.readNet(\"yolov3.weights\", \"yolov3.cfg\")\n",
    "layer_names = net.getLayerNames()\n",
    "output_layers = [layer_names[i[0] - 1] for i in net.getUnconnectedOutLayers()]\n",
    "\n",
    "# Load COCO dataset class names\n",
    "with open(\"coco.names\", \"r\") as f:\n",
    "    classes = [line.strip() for line in f.readlines()]\n",
    "\n",
    "# Load an image\n",
    "img = cv2.imread(\"sample_image.jpg\")\n",
    "height, width, channels = img.shape\n",
    "\n",
    "# Prepare the image for YOLO\n",
    "blob = cv2.dnn.blobFromImage(img, 0.00392, (416, 416), (0, 0, 0), True, crop=False)\n",
    "net.setInput(blob)\n",
    "\n",
    "# Run the detection\n",
    "outs = net.forward(output_layers)\n",
    "\n",
    "# Extract information from the outputs\n",
    "class_ids = []\n",
    "confidences = []\n",
    "boxes = []\n",
    "\n",
    "for out in outs:\n",
    "    for detection in out:\n",
    "        scores = detection[5:]\n",
    "        class_id = np.argmax(scores)\n",
    "        confidence = scores[class_id]\n",
    "        if confidence > 0.5:\n",
    "            # Object detected\n",
    "            center_x = int(detection[0] * width)\n",
    "            center_y = int(detection[1] * height)\n",
    "            w = int(detection[2] * width)\n",
    "            h = int(detection[3] * height)\n",
    "\n",
    "            # Rectangle coordinates\n",
    "            x = int(center_x - w / 2)\n",
    "            y = int(center_y - h / 2)\n",
    "\n",
    "            boxes.append([x, y, w, h])\n",
    "            confidences.append(float(confidence))\n",
    "            class_ids.append(class_id)\n",
    "\n",
    "# Apply Non-Maximum Suppression (NMS) to remove overlapping boxes\n",
    "indices = cv2.dnn.NMSBoxes(boxes, confidences, 0.5, 0.4)\n",
    "\n",
    "# Draw bounding boxes\n",
    "for i in indices:\n",
    "    i = i[0]\n",
    "    box = boxes[i]\n",
    "    x, y, w, h = box[0], box[1], box[2], box[3]\n",
    "    label = str(classes[class_ids[i]])\n",
    "    confidence = confidences[i]\n",
    "    color = (0, 255, 0)\n",
    "    cv2.rectangle(img, (x, y), (x + w, y + h), color, 2)\n",
    "    cv2.putText(img, f\"{label} {confidence:.2f}\", (x, y - 10), cv2.FONT_HERSHEY_SIMPLEX, 0.5, color, 2)\n",
    "\n",
    "# Show the final image with detections\n",
    "cv2.imshow(\"Object Detection\", img)\n",
    "cv2.waitKey(0)\n",
    "cv2.destroyAllWindows()\n"
   ]
  },
  {
   "cell_type": "markdown",
   "id": "4a001316",
   "metadata": {},
   "source": [
    "\n",
    "## 5.2 Intersection over Union (IoU)\n",
    "IoU is used to measure the overlap between the predicted bounding box and the ground truth box. It is calculated as the area of overlap divided by the area of union.\n",
    "\n",
    "$$ IoU = \\frac{Area \\ of \\ Overlap}{Area \\ of \\ Union} $$\n",
    "\n",
    "We will now implement a function to compute IoU.\n"
   ]
  },
  {
   "cell_type": "code",
   "execution_count": 2,
   "id": "1e777e95",
   "metadata": {},
   "outputs": [
    {
     "name": "stdout",
     "output_type": "stream",
     "text": [
      "IoU: 0.68\n"
     ]
    }
   ],
   "source": [
    "\n",
    "# Function to calculate Intersection over Union (IoU)\n",
    "def calculate_iou(box1, box2):\n",
    "    x1, y1, w1, h1 = box1\n",
    "    x2, y2, w2, h2 = box2\n",
    "\n",
    "    # Calculate intersection\n",
    "    inter_x1 = max(x1, x2)\n",
    "    inter_y1 = max(y1, y2)\n",
    "    inter_x2 = min(x1 + w1, x2 + w2)\n",
    "    inter_y2 = min(y1 + h1, y2 + h2)\n",
    "    inter_area = max(0, inter_x2 - inter_x1) * max(0, inter_y2 - inter_y1)\n",
    "\n",
    "    # Calculate union\n",
    "    box1_area = w1 * h1\n",
    "    box2_area = w2 * h2\n",
    "    union_area = box1_area + box2_area - inter_area\n",
    "\n",
    "    # Calculate IoU\n",
    "    iou = inter_area / union_area\n",
    "    return iou\n",
    "\n",
    "# Example: Calculate IoU between two bounding boxes\n",
    "boxA = [50, 50, 100, 100]\n",
    "boxB = [60, 60, 100, 100]\n",
    "iou = calculate_iou(boxA, boxB)\n",
    "print(f\"IoU: {iou:.2f}\")\n"
   ]
  },
  {
   "cell_type": "markdown",
   "id": "4abd72b6",
   "metadata": {},
   "source": [
    "\n",
    "## 5.3 Exercises:\n",
    "- Experiment with different confidence thresholds for object detection and observe how it affects the number of detected objects.\n",
    "- Implement a precision-recall curve for the YOLO model and evaluate its performance on a dataset.\n",
    "- Try training a custom YOLO model on a small dataset and compare the results with a pre-trained model.\n"
   ]
  }
 ],
 "metadata": {
  "kernelspec": {
   "display_name": "Python 3 (ipykernel)",
   "language": "python",
   "name": "python3"
  },
  "language_info": {
   "codemirror_mode": {
    "name": "ipython",
    "version": 3
   },
   "file_extension": ".py",
   "mimetype": "text/x-python",
   "name": "python",
   "nbconvert_exporter": "python",
   "pygments_lexer": "ipython3",
   "version": "3.10.14"
  }
 },
 "nbformat": 4,
 "nbformat_minor": 5
}
